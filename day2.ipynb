{
 "cells": [
  {
   "cell_type": "markdown",
   "id": "dc40e242",
   "metadata": {},
   "source": [
    "# Join function"
   ]
  },
  {
   "cell_type": "code",
   "execution_count": 1,
   "id": "6a0781a5",
   "metadata": {},
   "outputs": [
    {
     "name": "stdout",
     "output_type": "stream",
     "text": [
      "['as', 'bd']\n"
     ]
    }
   ],
   "source": [
    "a = ['as', 'bd']\n",
    "print(a)"
   ]
  },
  {
   "cell_type": "code",
   "execution_count": 2,
   "id": "1b115a43",
   "metadata": {},
   "outputs": [
    {
     "name": "stdout",
     "output_type": "stream",
     "text": [
      "as bd\n"
     ]
    }
   ],
   "source": [
    "a = ['as', 'bd']\n",
    "b = ' '\n",
    "print(b.join(a))"
   ]
  },
  {
   "cell_type": "code",
   "execution_count": 3,
   "id": "6c1d6e74",
   "metadata": {},
   "outputs": [
    {
     "name": "stdout",
     "output_type": "stream",
     "text": [
      "as--bd\n"
     ]
    }
   ],
   "source": [
    "a = ['as', 'bd']\n",
    "b = '--'\n",
    "print(b.join(a))"
   ]
  },
  {
   "cell_type": "code",
   "execution_count": 4,
   "id": "35f3300a",
   "metadata": {},
   "outputs": [
    {
     "name": "stdout",
     "output_type": "stream",
     "text": [
      "as\n",
      "bd\n"
     ]
    }
   ],
   "source": [
    "a = ['as', 'bd']\n",
    "b = '\\n'\n",
    "print(b.join(a))"
   ]
  },
  {
   "cell_type": "code",
   "execution_count": 5,
   "id": "045f80a5",
   "metadata": {},
   "outputs": [
    {
     "name": "stdout",
     "output_type": "stream",
     "text": [
      "as\tbd\n"
     ]
    }
   ],
   "source": [
    "a = ['as', 'bd']\n",
    "b = '\\t'\n",
    "print(b.join(a))"
   ]
  },
  {
   "cell_type": "code",
   "execution_count": 6,
   "id": "2cad77f6",
   "metadata": {},
   "outputs": [
    {
     "name": "stdout",
     "output_type": "stream",
     "text": [
      "as\n",
      "bd\n"
     ]
    }
   ],
   "source": [
    "a = ['as', 'bd']\n",
    "print('\\n'.join(a))"
   ]
  },
  {
   "cell_type": "code",
   "execution_count": 7,
   "id": "5e1c011d",
   "metadata": {},
   "outputs": [
    {
     "name": "stdout",
     "output_type": "stream",
     "text": [
      "as\tbd\n"
     ]
    }
   ],
   "source": [
    "a = ['as', 'bd']\n",
    "print('\\t'.join(a))"
   ]
  },
  {
   "cell_type": "markdown",
   "id": "6022de15",
   "metadata": {},
   "source": [
    "# Formatting strings"
   ]
  },
  {
   "cell_type": "code",
   "execution_count": 8,
   "id": "1c17874d",
   "metadata": {},
   "outputs": [
    {
     "name": "stdout",
     "output_type": "stream",
     "text": [
      "one two\n"
     ]
    }
   ],
   "source": [
    "print('{} {}'.format('one','two'))"
   ]
  },
  {
   "cell_type": "code",
   "execution_count": 9,
   "id": "f3b59cdf",
   "metadata": {},
   "outputs": [
    {
     "name": "stdout",
     "output_type": "stream",
     "text": [
      "one two\n"
     ]
    }
   ],
   "source": [
    "print('{0} {1}'.format('one','two'))"
   ]
  },
  {
   "cell_type": "code",
   "execution_count": 13,
   "id": "f6c6fb37",
   "metadata": {},
   "outputs": [
    {
     "name": "stdout",
     "output_type": "stream",
     "text": [
      "two one\n"
     ]
    }
   ],
   "source": [
    "print('{1} {0}'.format('one','two'))"
   ]
  },
  {
   "cell_type": "code",
   "execution_count": 14,
   "id": "5bef4d1e",
   "metadata": {},
   "outputs": [
    {
     "name": "stdout",
     "output_type": "stream",
     "text": [
      "two two two two\n"
     ]
    }
   ],
   "source": [
    "print('{1} {1} {1} {1}'.format('one','two'))"
   ]
  },
  {
   "cell_type": "code",
   "execution_count": 15,
   "id": "0d8dd07a",
   "metadata": {},
   "outputs": [
    {
     "name": "stdout",
     "output_type": "stream",
     "text": [
      "two one two one\n"
     ]
    }
   ],
   "source": [
    "print('{1} {0} {1} {0}'.format('one','two'))"
   ]
  },
  {
   "cell_type": "code",
   "execution_count": 16,
   "id": "a0340b95",
   "metadata": {},
   "outputs": [
    {
     "name": "stdout",
     "output_type": "stream",
     "text": [
      "      test\n"
     ]
    }
   ],
   "source": [
    "print('{:>10}'.format('test'))"
   ]
  },
  {
   "cell_type": "code",
   "execution_count": 17,
   "id": "74a27d73",
   "metadata": {},
   "outputs": [
    {
     "name": "stdout",
     "output_type": "stream",
     "text": [
      "test______\n"
     ]
    }
   ],
   "source": [
    "print('{:_<10}'.format('test'))"
   ]
  },
  {
   "cell_type": "code",
   "execution_count": 18,
   "id": "2ff0a167",
   "metadata": {},
   "outputs": [
    {
     "name": "stdout",
     "output_type": "stream",
     "text": [
      "test      \n"
     ]
    }
   ],
   "source": [
    "print('{:<10}'.format('test'))"
   ]
  },
  {
   "cell_type": "code",
   "execution_count": 19,
   "id": "2ebe1192",
   "metadata": {},
   "outputs": [
    {
     "name": "stdout",
     "output_type": "stream",
     "text": [
      "......test\n"
     ]
    }
   ],
   "source": [
    "print('{:.>10}'.format('test'))"
   ]
  },
  {
   "cell_type": "code",
   "execution_count": 20,
   "id": "48a4d73b",
   "metadata": {},
   "outputs": [
    {
     "name": "stdout",
     "output_type": "stream",
     "text": [
      "SSSSSSSSSSSSSSSStest\n"
     ]
    }
   ],
   "source": [
    "print('{:S>20}'.format('test'))"
   ]
  },
  {
   "cell_type": "code",
   "execution_count": 21,
   "id": "3848ddbd",
   "metadata": {},
   "outputs": [
    {
     "name": "stdout",
     "output_type": "stream",
     "text": [
      "...zip...\n"
     ]
    }
   ],
   "source": [
    "print('{:.^9}'.format('zip'))"
   ]
  },
  {
   "cell_type": "markdown",
   "id": "681ae215",
   "metadata": {},
   "source": [
    "# Conditional statements"
   ]
  },
  {
   "cell_type": "markdown",
   "id": "7e42ddd4",
   "metadata": {},
   "source": [
    "# If Else"
   ]
  },
  {
   "cell_type": "code",
   "execution_count": 22,
   "id": "2cd0a7d0",
   "metadata": {},
   "outputs": [
    {
     "name": "stdout",
     "output_type": "stream",
     "text": [
      "20\n"
     ]
    }
   ],
   "source": [
    "a = 10\n",
    "b = 20\n",
    "if a > b:\n",
    "    print(a)\n",
    "else:\n",
    "    print(b)"
   ]
  },
  {
   "cell_type": "code",
   "execution_count": 23,
   "id": "0bcf57f1",
   "metadata": {},
   "outputs": [
    {
     "name": "stdout",
     "output_type": "stream",
     "text": [
      "20\n",
      "a is less than b:-\n"
     ]
    }
   ],
   "source": [
    "a = 10\n",
    "b = 20\n",
    "if a > b:\n",
    "    print(a)\n",
    "    print('a is greater than :-')\n",
    "else:\n",
    "    print(b)\n",
    "    print('a is less than b:-')"
   ]
  },
  {
   "cell_type": "code",
   "execution_count": 25,
   "id": "123ae73b",
   "metadata": {},
   "outputs": [
    {
     "name": "stdout",
     "output_type": "stream",
     "text": [
      "20\n",
      "a is less than b:- 20\n"
     ]
    }
   ],
   "source": [
    "a = 10\n",
    "b = 20\n",
    "if a > b:\n",
    "    print(a)\n",
    "    print('a is greater than b :-',a)\n",
    "else:\n",
    "    print(b)\n",
    "    print('a is less than b:-',b)"
   ]
  },
  {
   "cell_type": "markdown",
   "id": "bdc74d03",
   "metadata": {},
   "source": [
    "# If Else Nested"
   ]
  },
  {
   "cell_type": "code",
   "execution_count": 4,
   "id": "91e57f96",
   "metadata": {},
   "outputs": [
    {
     "ename": "SyntaxError",
     "evalue": "invalid syntax (1252904071.py, line 10)",
     "output_type": "error",
     "traceback": [
      "\u001b[1;36m  Cell \u001b[1;32mIn[4], line 10\u001b[1;36m\u001b[0m\n\u001b[1;33m    elif b > c:\u001b[0m\n\u001b[1;37m    ^\u001b[0m\n\u001b[1;31mSyntaxError\u001b[0m\u001b[1;31m:\u001b[0m invalid syntax\n"
     ]
    }
   ],
   "source": [
    "a = 100\n",
    "b = 200\n",
    "c = 500\n",
    "\n",
    "if a > b:\n",
    "    if a > c:\n",
    "         print('a is greater')\n",
    "else:\n",
    "    print('c is greater1')\n",
    "elif b > c:\n",
    "    print('b is greater')\n",
    "else:\n",
    "    print('c is greater2:-',c)"
   ]
  },
  {
   "cell_type": "markdown",
   "id": "8a9f5511",
   "metadata": {},
   "source": [
    "# Functions"
   ]
  },
  {
   "cell_type": "code",
   "execution_count": 5,
   "id": "3802bf70",
   "metadata": {},
   "outputs": [
    {
     "name": "stdout",
     "output_type": "stream",
     "text": [
      "15\n",
      "5\n"
     ]
    }
   ],
   "source": [
    "def add(a, b):\n",
    "    return a + b\n",
    "def sub(a, b):\n",
    "    return a - b\n",
    "\n",
    "p = 10\n",
    "q = 5\n",
    "r = add(p, q)\n",
    "print(r)\n",
    "\n",
    "s = sub(p, q)\n",
    "print(s)\n",
    "    "
   ]
  },
  {
   "cell_type": "code",
   "execution_count": 7,
   "id": "b8e653ea",
   "metadata": {},
   "outputs": [
    {
     "name": "stdout",
     "output_type": "stream",
     "text": [
      "Addition:- 15\n",
      "Substraction:- 5\n"
     ]
    }
   ],
   "source": [
    "def add(a, b):\n",
    "    return a + b\n",
    "def sub(a, b):\n",
    "    return a - b\n",
    "\n",
    "p = 10\n",
    "q = 5\n",
    "r = add(p, q)\n",
    "print('Addition:-',r)\n",
    "\n",
    "s = sub(p, q)\n",
    "print('Substraction:-',s)"
   ]
  },
  {
   "cell_type": "code",
   "execution_count": 9,
   "id": "b9c2cac6",
   "metadata": {},
   "outputs": [
    {
     "name": "stdout",
     "output_type": "stream",
     "text": [
      "Addition:- 15\n",
      "Substraction:- 5\n"
     ]
    }
   ],
   "source": [
    "def add(a, b):\n",
    "    r = a + b\n",
    "    return r\n",
    "\n",
    "def sub(a, b):\n",
    "    s = a - b\n",
    "    return s\n",
    "\n",
    "p = 10\n",
    "q = 5\n",
    "r = add(p, q)\n",
    "print('Addition:-',r)\n",
    "\n",
    "s = sub(p, q)\n",
    "print('Substraction:-',s)"
   ]
  },
  {
   "cell_type": "code",
   "execution_count": 11,
   "id": "4a7993e8",
   "metadata": {},
   "outputs": [
    {
     "name": "stdout",
     "output_type": "stream",
     "text": [
      "Name: thor Age: 1000\n",
      "Name: captain Age: 100\n"
     ]
    }
   ],
   "source": [
    "def avengers_bio (Name, Age):\n",
    "    print('Name:', Name, 'Age:', Age)\n",
    "    \n",
    "n1 = 'thor'\n",
    "a1 = 1000\n",
    "n2 = 'captain'\n",
    "a2 = '100'\n",
    "\n",
    "avengers_bio(n1, a1)\n",
    "avengers_bio(n2, a2)"
   ]
  },
  {
   "cell_type": "code",
   "execution_count": 12,
   "id": "47e73e01",
   "metadata": {},
   "outputs": [
    {
     "name": "stdout",
     "output_type": "stream",
     "text": [
      "Name: thor Age: 1000 City: asguard\n",
      "Name: captain Age: 100 City: newyork\n"
     ]
    }
   ],
   "source": [
    "def avengers_bio (Name, Age, City):\n",
    "    print('Name:', Name, 'Age:', Age, 'City:', City)\n",
    "    \n",
    "n1 = 'thor'\n",
    "a1 = 1000\n",
    "c1 = 'asguard'\n",
    "n2 = 'captain'\n",
    "a2 = '100'\n",
    "c2 = 'newyork'\n",
    "\n",
    "avengers_bio(n1, a1, c1)\n",
    "avengers_bio(n2, a2, c2)"
   ]
  },
  {
   "cell_type": "code",
   "execution_count": 13,
   "id": "6959764c",
   "metadata": {},
   "outputs": [
    {
     "name": "stdout",
     "output_type": "stream",
     "text": [
      "Name: thor Age: 1000 City: asguard\n",
      "Name: captain Age: 100 City: newyork\n"
     ]
    }
   ],
   "source": [
    "def avengers_bio (N, A, C):\n",
    "    print('Name:', N, 'Age:', A, 'City:', C)\n",
    "    \n",
    "n1 = 'thor'\n",
    "a1 = 1000\n",
    "c1 = 'asguard'\n",
    "n2 = 'captain'\n",
    "a2 = '100'\n",
    "c2 = 'newyork'\n",
    "\n",
    "avengers_bio(n1, a1, c1)\n",
    "avengers_bio(n2, a2, c2)"
   ]
  },
  {
   "cell_type": "markdown",
   "id": "116f66aa",
   "metadata": {},
   "source": [
    "# Join function"
   ]
  },
  {
   "cell_type": "code",
   "execution_count": 1,
   "id": "8035bec7",
   "metadata": {},
   "outputs": [
    {
     "name": "stdout",
     "output_type": "stream",
     "text": [
      "['as', 'bd']\n"
     ]
    }
   ],
   "source": [
    "a = ['as','bd']\n",
    "print(a)"
   ]
  },
  {
   "cell_type": "code",
   "execution_count": 2,
   "id": "b2e67382",
   "metadata": {},
   "outputs": [
    {
     "name": "stdout",
     "output_type": "stream",
     "text": [
      "as,bd\n"
     ]
    }
   ],
   "source": [
    "a = ['as','bd']\n",
    "b = \",\"\n",
    "print(b.join(a))"
   ]
  },
  {
   "cell_type": "code",
   "execution_count": 3,
   "id": "d9882ec4",
   "metadata": {},
   "outputs": [
    {
     "name": "stdout",
     "output_type": "stream",
     "text": [
      "as--bd\n"
     ]
    }
   ],
   "source": [
    "a = ['as','bd']\n",
    "b = \"--\"\n",
    "print(b.join(a))"
   ]
  },
  {
   "cell_type": "code",
   "execution_count": 4,
   "id": "7fb74d13",
   "metadata": {},
   "outputs": [
    {
     "name": "stdout",
     "output_type": "stream",
     "text": [
      "as\n",
      "bd\n"
     ]
    }
   ],
   "source": [
    "a = ['as','bd']\n",
    "b = \"\\n\"\n",
    "print(b.join(a))"
   ]
  },
  {
   "cell_type": "code",
   "execution_count": 5,
   "id": "7a62db33",
   "metadata": {},
   "outputs": [
    {
     "name": "stdout",
     "output_type": "stream",
     "text": [
      "as\tbd\n"
     ]
    }
   ],
   "source": [
    "a = ['as','bd']\n",
    "b = \"\\t\"\n",
    "print(b.join(a))"
   ]
  },
  {
   "cell_type": "code",
   "execution_count": 6,
   "id": "f473c56f",
   "metadata": {},
   "outputs": [
    {
     "name": "stdout",
     "output_type": "stream",
     "text": [
      "as\n",
      "bd\n"
     ]
    }
   ],
   "source": [
    "a = ['as','bd']\n",
    "print('\\n'.join(a))"
   ]
  },
  {
   "cell_type": "code",
   "execution_count": 7,
   "id": "09c7ac0b",
   "metadata": {},
   "outputs": [
    {
     "name": "stdout",
     "output_type": "stream",
     "text": [
      "as\tbd\n"
     ]
    }
   ],
   "source": [
    "a = ['as','bd']\n",
    "print('\\t'.join(a))"
   ]
  },
  {
   "cell_type": "markdown",
   "id": "b5eb7de7",
   "metadata": {},
   "source": [
    "# Formatting strings"
   ]
  },
  {
   "cell_type": "code",
   "execution_count": 8,
   "id": "ab96e3c0",
   "metadata": {},
   "outputs": [
    {
     "name": "stdout",
     "output_type": "stream",
     "text": [
      "one two\n"
     ]
    }
   ],
   "source": [
    "print('{} {}'.format('one','two'))"
   ]
  },
  {
   "cell_type": "code",
   "execution_count": 9,
   "id": "c0153f32",
   "metadata": {},
   "outputs": [
    {
     "name": "stdout",
     "output_type": "stream",
     "text": [
      "one two\n"
     ]
    }
   ],
   "source": [
    "print('{0} {1}'.format('one','two'))"
   ]
  },
  {
   "cell_type": "code",
   "execution_count": 10,
   "id": "d40cb6c2",
   "metadata": {},
   "outputs": [
    {
     "name": "stdout",
     "output_type": "stream",
     "text": [
      "two one\n"
     ]
    }
   ],
   "source": [
    "print('{1} {0}'.format('one','two'))"
   ]
  },
  {
   "cell_type": "code",
   "execution_count": 11,
   "id": "ecfe77e5",
   "metadata": {},
   "outputs": [
    {
     "name": "stdout",
     "output_type": "stream",
     "text": [
      "two two two two\n"
     ]
    }
   ],
   "source": [
    "print('{1} {1} {1} {1}'.format('one','two'))"
   ]
  },
  {
   "cell_type": "code",
   "execution_count": 13,
   "id": "80a2a3ca",
   "metadata": {},
   "outputs": [
    {
     "name": "stdout",
     "output_type": "stream",
     "text": [
      "two one two one\n"
     ]
    }
   ],
   "source": [
    "print('{1} {0} {1} {0}'.format('one','two'))"
   ]
  },
  {
   "cell_type": "code",
   "execution_count": 14,
   "id": "c221649b",
   "metadata": {},
   "outputs": [
    {
     "name": "stdout",
     "output_type": "stream",
     "text": [
      "      test\n"
     ]
    }
   ],
   "source": [
    "print('{:>10}'.format('test'))"
   ]
  },
  {
   "cell_type": "code",
   "execution_count": 15,
   "id": "f8faea4d",
   "metadata": {},
   "outputs": [
    {
     "name": "stdout",
     "output_type": "stream",
     "text": [
      "test                \n"
     ]
    }
   ],
   "source": [
    "print('{:<20}'.format('test'))"
   ]
  },
  {
   "cell_type": "code",
   "execution_count": 17,
   "id": "2694e8f0",
   "metadata": {},
   "outputs": [
    {
     "name": "stdout",
     "output_type": "stream",
     "text": [
      "test________________\n"
     ]
    }
   ],
   "source": [
    "print('{:_<20}'.format('test'))"
   ]
  },
  {
   "cell_type": "code",
   "execution_count": 18,
   "id": "f5418145",
   "metadata": {},
   "outputs": [
    {
     "name": "stdout",
     "output_type": "stream",
     "text": [
      "...zip...\n"
     ]
    }
   ],
   "source": [
    "print('{:.^9}'.format('zip'))"
   ]
  },
  {
   "cell_type": "markdown",
   "id": "422215c9",
   "metadata": {},
   "source": [
    "# Conditional statement"
   ]
  },
  {
   "cell_type": "markdown",
   "id": "e66ba156",
   "metadata": {},
   "source": [
    "# If else"
   ]
  },
  {
   "cell_type": "code",
   "execution_count": 2,
   "id": "899b7d1b",
   "metadata": {},
   "outputs": [
    {
     "name": "stdout",
     "output_type": "stream",
     "text": [
      "20\n"
     ]
    }
   ],
   "source": [
    "a = 10\n",
    "b = 20\n",
    "if a > b:\n",
    "    print(a)\n",
    "else:\n",
    "    print(b)"
   ]
  },
  {
   "cell_type": "code",
   "execution_count": 3,
   "id": "9dcb4d0a",
   "metadata": {},
   "outputs": [
    {
     "name": "stdout",
     "output_type": "stream",
     "text": [
      "20\n",
      "a is less than b\n"
     ]
    }
   ],
   "source": [
    "a = 10\n",
    "b = 20\n",
    "if a > b:\n",
    "    print(a)\n",
    "    print('a is greater than b')\n",
    "else:\n",
    "    print(b)\n",
    "    print('a is less than b')"
   ]
  },
  {
   "cell_type": "code",
   "execution_count": 4,
   "id": "f3fd7578",
   "metadata": {},
   "outputs": [
    {
     "name": "stdout",
     "output_type": "stream",
     "text": [
      "a is less than b: 20\n"
     ]
    }
   ],
   "source": [
    "a = 10\n",
    "b = 20\n",
    "if a > b:\n",
    "    print('a is greater than b:',a)\n",
    "else:\n",
    "    print('a is less than b:',b)\n",
    "    "
   ]
  },
  {
   "cell_type": "markdown",
   "id": "6dc86642",
   "metadata": {},
   "source": [
    "# If Else Nested"
   ]
  },
  {
   "cell_type": "code",
   "execution_count": 5,
   "id": "65085297",
   "metadata": {},
   "outputs": [
    {
     "name": "stdout",
     "output_type": "stream",
     "text": [
      "c is greater2: 500\n"
     ]
    }
   ],
   "source": [
    "a = 100\n",
    "b = 200\n",
    "c = 500\n",
    "if a > b:\n",
    "    if a > c:\n",
    "        print('a is greater')\n",
    "    else:\n",
    "        print('c is greater1')\n",
    "elif b > c:\n",
    "    print('b is greater')\n",
    "else:\n",
    "    print('c is greater2:',c)"
   ]
  },
  {
   "cell_type": "code",
   "execution_count": 7,
   "id": "e526850b",
   "metadata": {},
   "outputs": [
    {
     "name": "stdout",
     "output_type": "stream",
     "text": [
      "b is greater: 400\n"
     ]
    }
   ],
   "source": [
    "a = 200\n",
    "b = 400\n",
    "c = 300\n",
    "if a > b:\n",
    "    if a > c:\n",
    "        print('a is greater')\n",
    "    else:\n",
    "        print('c is greater')\n",
    "elif b > c:\n",
    "    print('b is greater:',b)\n",
    "else:\n",
    "    print('c is greater')"
   ]
  },
  {
   "cell_type": "markdown",
   "id": "5d8229d2",
   "metadata": {},
   "source": [
    "# functions"
   ]
  },
  {
   "cell_type": "code",
   "execution_count": 9,
   "id": "2685fb5f",
   "metadata": {},
   "outputs": [
    {
     "name": "stdout",
     "output_type": "stream",
     "text": [
      "15\n",
      "5\n"
     ]
    }
   ],
   "source": [
    "def add(a,b):\n",
    "    return a + b\n",
    "def sub(a,b):\n",
    "    return a - b\n",
    "\n",
    "p = 10\n",
    "q = 5\n",
    "r = add(p,q)\n",
    "s = sub(p,q)\n",
    "print(r)\n",
    "print(s)"
   ]
  },
  {
   "cell_type": "code",
   "execution_count": 11,
   "id": "5228886e",
   "metadata": {},
   "outputs": [
    {
     "name": "stdout",
     "output_type": "stream",
     "text": [
      "Addition: 15\n",
      "Substraction: 5\n"
     ]
    }
   ],
   "source": [
    "def add(a,b):\n",
    "    return a + b\n",
    "def sub(a,b):\n",
    "    return a - b\n",
    "\n",
    "p = 10\n",
    "q = 5\n",
    "r = add(p,q)\n",
    "print('Addition:',r)\n",
    "\n",
    "s = sub(p,q)\n",
    "print('Substraction:',s)"
   ]
  },
  {
   "cell_type": "code",
   "execution_count": 13,
   "id": "7131ab6e",
   "metadata": {},
   "outputs": [
    {
     "name": "stdout",
     "output_type": "stream",
     "text": [
      "Name: thor Age: 1000 City: asguard\n",
      "Name: captain Age: 100 City: newyork\n"
     ]
    }
   ],
   "source": [
    "def avengers_bio(Name,Age,city):\n",
    "    print('Name:',Name,'Age:',Age,'City:',city)\n",
    "    \n",
    "n1 = 'thor'\n",
    "a1 = 1000\n",
    "c1 = 'asguard'\n",
    "n2 = 'captain'\n",
    "a2 = 100\n",
    "c2 = 'newyork'\n",
    "\n",
    "avengers_bio(n1,a1,c1)\n",
    "avengers_bio(n2,a2,c2)"
   ]
  },
  {
   "cell_type": "code",
   "execution_count": 2,
   "id": "2939376f",
   "metadata": {},
   "outputs": [
    {
     "name": "stdout",
     "output_type": "stream",
     "text": [
      "as , bd\n"
     ]
    }
   ],
   "source": [
    "# join function\n",
    "\n",
    "a = ['as','bd']\n",
    "b = ' , '\n",
    "print(b.join(a))"
   ]
  },
  {
   "cell_type": "code",
   "execution_count": 3,
   "id": "d9329863",
   "metadata": {},
   "outputs": [
    {
     "name": "stdout",
     "output_type": "stream",
     "text": [
      "as \n",
      " bd\n"
     ]
    }
   ],
   "source": [
    "a = ['as','bd']\n",
    "b = ' \\n '\n",
    "print(b.join(a))"
   ]
  },
  {
   "cell_type": "code",
   "execution_count": 4,
   "id": "450d68bd",
   "metadata": {},
   "outputs": [
    {
     "name": "stdout",
     "output_type": "stream",
     "text": [
      "as\tbd\n"
     ]
    }
   ],
   "source": [
    "a = ['as','bd']\n",
    "b = '\\t'\n",
    "print(b.join(a))"
   ]
  },
  {
   "cell_type": "code",
   "execution_count": 5,
   "id": "dc1c5f77",
   "metadata": {},
   "outputs": [
    {
     "name": "stdout",
     "output_type": "stream",
     "text": [
      "as\n",
      "bd\n"
     ]
    }
   ],
   "source": [
    "a = ['as','bd']\n",
    "print('\\n'.join(a))"
   ]
  },
  {
   "cell_type": "code",
   "execution_count": 6,
   "id": "3f48e9f9",
   "metadata": {},
   "outputs": [
    {
     "name": "stdout",
     "output_type": "stream",
     "text": [
      "as\tbd\n"
     ]
    }
   ],
   "source": [
    "a = ['as','bd']\n",
    "print('\\t'.join(a))"
   ]
  },
  {
   "cell_type": "code",
   "execution_count": 9,
   "id": "fe60ab80",
   "metadata": {},
   "outputs": [
    {
     "name": "stdout",
     "output_type": "stream",
     "text": [
      "20\n"
     ]
    }
   ],
   "source": [
    "# Condition statement\n",
    "\n",
    "# If else\n",
    "a = 10\n",
    "b = 20\n",
    "if a > b:\n",
    "    print(a)\n",
    "else:\n",
    "    print(b)"
   ]
  },
  {
   "cell_type": "code",
   "execution_count": 10,
   "id": "a659b1ad",
   "metadata": {},
   "outputs": [
    {
     "name": "stdout",
     "output_type": "stream",
     "text": [
      "20\n",
      "b is leass than a\n"
     ]
    }
   ],
   "source": [
    "a = 10\n",
    "b = 20\n",
    "if a > b:\n",
    "    print(a)\n",
    "    print('a is greater than b')\n",
    "else:\n",
    "    print(b)\n",
    "    print('b is leass than a')"
   ]
  },
  {
   "cell_type": "code",
   "execution_count": 13,
   "id": "8be523ae",
   "metadata": {},
   "outputs": [
    {
     "name": "stdout",
     "output_type": "stream",
     "text": [
      "c is greatest2:- 500\n"
     ]
    }
   ],
   "source": [
    "# If else nested\n",
    "\n",
    "a = 100\n",
    "b = 200\n",
    "c = 500\n",
    "if a > b:\n",
    "    if a > c:\n",
    "        print('a is greatest')\n",
    "    else:\n",
    "        print('c isgreatest1')\n",
    "elif b > c:\n",
    "        print('b is greatest')\n",
    "else:\n",
    "    print('c is greatest2:-',c)\n",
    "    "
   ]
  },
  {
   "cell_type": "code",
   "execution_count": 15,
   "id": "2baf240d",
   "metadata": {},
   "outputs": [
    {
     "name": "stdout",
     "output_type": "stream",
     "text": [
      "15\n",
      "5\n"
     ]
    }
   ],
   "source": [
    "def add(a,b):\n",
    "    return a + b\n",
    "def sub(a,b):\n",
    "    return a -b\n",
    "\n",
    "p = 10\n",
    "q = 5\n",
    "r = add(p,q)\n",
    "print(r)\n",
    "\n",
    "s = sub(p,q)\n",
    "print(s)"
   ]
  },
  {
   "cell_type": "code",
   "execution_count": null,
   "id": "876402c3",
   "metadata": {},
   "outputs": [],
   "source": []
  }
 ],
 "metadata": {
  "kernelspec": {
   "display_name": "Python 3 (ipykernel)",
   "language": "python",
   "name": "python3"
  },
  "language_info": {
   "codemirror_mode": {
    "name": "ipython",
    "version": 3
   },
   "file_extension": ".py",
   "mimetype": "text/x-python",
   "name": "python",
   "nbconvert_exporter": "python",
   "pygments_lexer": "ipython3",
   "version": "3.10.9"
  }
 },
 "nbformat": 4,
 "nbformat_minor": 5
}
