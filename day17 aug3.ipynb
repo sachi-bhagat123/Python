{
 "cells": [
  {
   "cell_type": "markdown",
   "id": "00a4d756",
   "metadata": {},
   "source": [
    "# DataFrame"
   ]
  },
  {
   "cell_type": "code",
   "execution_count": 3,
   "id": "709e0f68",
   "metadata": {},
   "outputs": [],
   "source": [
    "import numpy as np             # deals with array\n",
    "import pandas as pd            # dataframe"
   ]
  },
  {
   "cell_type": "code",
   "execution_count": 4,
   "id": "c8a9ce57",
   "metadata": {},
   "outputs": [],
   "source": [
    "df = pd.DataFrame(np.random.randn(5,4),columns=['w','x','y','z'])\n"
   ]
  },
  {
   "cell_type": "code",
   "execution_count": 5,
   "id": "8f4fb641",
   "metadata": {},
   "outputs": [
    {
     "data": {
      "text/html": [
       "<div>\n",
       "<style scoped>\n",
       "    .dataframe tbody tr th:only-of-type {\n",
       "        vertical-align: middle;\n",
       "    }\n",
       "\n",
       "    .dataframe tbody tr th {\n",
       "        vertical-align: top;\n",
       "    }\n",
       "\n",
       "    .dataframe thead th {\n",
       "        text-align: right;\n",
       "    }\n",
       "</style>\n",
       "<table border=\"1\" class=\"dataframe\">\n",
       "  <thead>\n",
       "    <tr style=\"text-align: right;\">\n",
       "      <th></th>\n",
       "      <th>w</th>\n",
       "      <th>x</th>\n",
       "      <th>y</th>\n",
       "      <th>z</th>\n",
       "    </tr>\n",
       "  </thead>\n",
       "  <tbody>\n",
       "    <tr>\n",
       "      <th>0</th>\n",
       "      <td>0.751063</td>\n",
       "      <td>-1.690757</td>\n",
       "      <td>-1.543857</td>\n",
       "      <td>0.692312</td>\n",
       "    </tr>\n",
       "    <tr>\n",
       "      <th>1</th>\n",
       "      <td>0.023842</td>\n",
       "      <td>-0.729396</td>\n",
       "      <td>0.160331</td>\n",
       "      <td>0.102383</td>\n",
       "    </tr>\n",
       "    <tr>\n",
       "      <th>2</th>\n",
       "      <td>-1.721359</td>\n",
       "      <td>-0.713358</td>\n",
       "      <td>-0.869429</td>\n",
       "      <td>0.285601</td>\n",
       "    </tr>\n",
       "    <tr>\n",
       "      <th>3</th>\n",
       "      <td>0.409674</td>\n",
       "      <td>1.183396</td>\n",
       "      <td>-0.435503</td>\n",
       "      <td>-0.164376</td>\n",
       "    </tr>\n",
       "    <tr>\n",
       "      <th>4</th>\n",
       "      <td>0.451380</td>\n",
       "      <td>0.631830</td>\n",
       "      <td>1.476338</td>\n",
       "      <td>0.285065</td>\n",
       "    </tr>\n",
       "  </tbody>\n",
       "</table>\n",
       "</div>"
      ],
      "text/plain": [
       "          w         x         y         z\n",
       "0  0.751063 -1.690757 -1.543857  0.692312\n",
       "1  0.023842 -0.729396  0.160331  0.102383\n",
       "2 -1.721359 -0.713358 -0.869429  0.285601\n",
       "3  0.409674  1.183396 -0.435503 -0.164376\n",
       "4  0.451380  0.631830  1.476338  0.285065"
      ]
     },
     "execution_count": 5,
     "metadata": {},
     "output_type": "execute_result"
    }
   ],
   "source": [
    "df"
   ]
  },
  {
   "cell_type": "code",
   "execution_count": 6,
   "id": "c8c1b5af",
   "metadata": {},
   "outputs": [
    {
     "data": {
      "text/plain": [
       "0    0.751063\n",
       "1    0.023842\n",
       "2   -1.721359\n",
       "3    0.409674\n",
       "4    0.451380\n",
       "Name: w, dtype: float64"
      ]
     },
     "execution_count": 6,
     "metadata": {},
     "output_type": "execute_result"
    }
   ],
   "source": [
    "df['w']"
   ]
  },
  {
   "cell_type": "code",
   "execution_count": 7,
   "id": "ca0cb3cf",
   "metadata": {},
   "outputs": [
    {
     "data": {
      "text/plain": [
       "pandas.core.series.Series"
      ]
     },
     "execution_count": 7,
     "metadata": {},
     "output_type": "execute_result"
    }
   ],
   "source": [
    "type(df['w'])"
   ]
  },
  {
   "cell_type": "code",
   "execution_count": 8,
   "id": "2133acab",
   "metadata": {},
   "outputs": [
    {
     "data": {
      "text/plain": [
       "0    0.751063\n",
       "1    0.023842\n",
       "2   -1.721359\n",
       "3    0.409674\n",
       "4    0.451380\n",
       "Name: w, dtype: float64"
      ]
     },
     "execution_count": 8,
     "metadata": {},
     "output_type": "execute_result"
    }
   ],
   "source": [
    "df.w"
   ]
  },
  {
   "cell_type": "code",
   "execution_count": 9,
   "id": "ef7ac3c8",
   "metadata": {},
   "outputs": [],
   "source": [
    "df['sachi'] = df['w'] + df['z']"
   ]
  },
  {
   "cell_type": "code",
   "execution_count": 10,
   "id": "a6c2f272",
   "metadata": {},
   "outputs": [
    {
     "data": {
      "text/html": [
       "<div>\n",
       "<style scoped>\n",
       "    .dataframe tbody tr th:only-of-type {\n",
       "        vertical-align: middle;\n",
       "    }\n",
       "\n",
       "    .dataframe tbody tr th {\n",
       "        vertical-align: top;\n",
       "    }\n",
       "\n",
       "    .dataframe thead th {\n",
       "        text-align: right;\n",
       "    }\n",
       "</style>\n",
       "<table border=\"1\" class=\"dataframe\">\n",
       "  <thead>\n",
       "    <tr style=\"text-align: right;\">\n",
       "      <th></th>\n",
       "      <th>w</th>\n",
       "      <th>x</th>\n",
       "      <th>y</th>\n",
       "      <th>z</th>\n",
       "      <th>sachi</th>\n",
       "    </tr>\n",
       "  </thead>\n",
       "  <tbody>\n",
       "    <tr>\n",
       "      <th>0</th>\n",
       "      <td>0.751063</td>\n",
       "      <td>-1.690757</td>\n",
       "      <td>-1.543857</td>\n",
       "      <td>0.692312</td>\n",
       "      <td>1.443375</td>\n",
       "    </tr>\n",
       "    <tr>\n",
       "      <th>1</th>\n",
       "      <td>0.023842</td>\n",
       "      <td>-0.729396</td>\n",
       "      <td>0.160331</td>\n",
       "      <td>0.102383</td>\n",
       "      <td>0.126226</td>\n",
       "    </tr>\n",
       "    <tr>\n",
       "      <th>2</th>\n",
       "      <td>-1.721359</td>\n",
       "      <td>-0.713358</td>\n",
       "      <td>-0.869429</td>\n",
       "      <td>0.285601</td>\n",
       "      <td>-1.435758</td>\n",
       "    </tr>\n",
       "    <tr>\n",
       "      <th>3</th>\n",
       "      <td>0.409674</td>\n",
       "      <td>1.183396</td>\n",
       "      <td>-0.435503</td>\n",
       "      <td>-0.164376</td>\n",
       "      <td>0.245298</td>\n",
       "    </tr>\n",
       "    <tr>\n",
       "      <th>4</th>\n",
       "      <td>0.451380</td>\n",
       "      <td>0.631830</td>\n",
       "      <td>1.476338</td>\n",
       "      <td>0.285065</td>\n",
       "      <td>0.736445</td>\n",
       "    </tr>\n",
       "  </tbody>\n",
       "</table>\n",
       "</div>"
      ],
      "text/plain": [
       "          w         x         y         z     sachi\n",
       "0  0.751063 -1.690757 -1.543857  0.692312  1.443375\n",
       "1  0.023842 -0.729396  0.160331  0.102383  0.126226\n",
       "2 -1.721359 -0.713358 -0.869429  0.285601 -1.435758\n",
       "3  0.409674  1.183396 -0.435503 -0.164376  0.245298\n",
       "4  0.451380  0.631830  1.476338  0.285065  0.736445"
      ]
     },
     "execution_count": 10,
     "metadata": {},
     "output_type": "execute_result"
    }
   ],
   "source": [
    "df"
   ]
  },
  {
   "cell_type": "code",
   "execution_count": 11,
   "id": "84e62e8c",
   "metadata": {},
   "outputs": [],
   "source": [
    "df['mayur'] = df['sachi'] + df['z']"
   ]
  },
  {
   "cell_type": "code",
   "execution_count": 12,
   "id": "c08c70a3",
   "metadata": {},
   "outputs": [
    {
     "data": {
      "text/html": [
       "<div>\n",
       "<style scoped>\n",
       "    .dataframe tbody tr th:only-of-type {\n",
       "        vertical-align: middle;\n",
       "    }\n",
       "\n",
       "    .dataframe tbody tr th {\n",
       "        vertical-align: top;\n",
       "    }\n",
       "\n",
       "    .dataframe thead th {\n",
       "        text-align: right;\n",
       "    }\n",
       "</style>\n",
       "<table border=\"1\" class=\"dataframe\">\n",
       "  <thead>\n",
       "    <tr style=\"text-align: right;\">\n",
       "      <th></th>\n",
       "      <th>w</th>\n",
       "      <th>x</th>\n",
       "      <th>y</th>\n",
       "      <th>z</th>\n",
       "      <th>sachi</th>\n",
       "      <th>mayur</th>\n",
       "    </tr>\n",
       "  </thead>\n",
       "  <tbody>\n",
       "    <tr>\n",
       "      <th>0</th>\n",
       "      <td>0.751063</td>\n",
       "      <td>-1.690757</td>\n",
       "      <td>-1.543857</td>\n",
       "      <td>0.692312</td>\n",
       "      <td>1.443375</td>\n",
       "      <td>2.135687</td>\n",
       "    </tr>\n",
       "    <tr>\n",
       "      <th>1</th>\n",
       "      <td>0.023842</td>\n",
       "      <td>-0.729396</td>\n",
       "      <td>0.160331</td>\n",
       "      <td>0.102383</td>\n",
       "      <td>0.126226</td>\n",
       "      <td>0.228609</td>\n",
       "    </tr>\n",
       "    <tr>\n",
       "      <th>2</th>\n",
       "      <td>-1.721359</td>\n",
       "      <td>-0.713358</td>\n",
       "      <td>-0.869429</td>\n",
       "      <td>0.285601</td>\n",
       "      <td>-1.435758</td>\n",
       "      <td>-1.150157</td>\n",
       "    </tr>\n",
       "    <tr>\n",
       "      <th>3</th>\n",
       "      <td>0.409674</td>\n",
       "      <td>1.183396</td>\n",
       "      <td>-0.435503</td>\n",
       "      <td>-0.164376</td>\n",
       "      <td>0.245298</td>\n",
       "      <td>0.080922</td>\n",
       "    </tr>\n",
       "    <tr>\n",
       "      <th>4</th>\n",
       "      <td>0.451380</td>\n",
       "      <td>0.631830</td>\n",
       "      <td>1.476338</td>\n",
       "      <td>0.285065</td>\n",
       "      <td>0.736445</td>\n",
       "      <td>1.021509</td>\n",
       "    </tr>\n",
       "  </tbody>\n",
       "</table>\n",
       "</div>"
      ],
      "text/plain": [
       "          w         x         y         z     sachi     mayur\n",
       "0  0.751063 -1.690757 -1.543857  0.692312  1.443375  2.135687\n",
       "1  0.023842 -0.729396  0.160331  0.102383  0.126226  0.228609\n",
       "2 -1.721359 -0.713358 -0.869429  0.285601 -1.435758 -1.150157\n",
       "3  0.409674  1.183396 -0.435503 -0.164376  0.245298  0.080922\n",
       "4  0.451380  0.631830  1.476338  0.285065  0.736445  1.021509"
      ]
     },
     "execution_count": 12,
     "metadata": {},
     "output_type": "execute_result"
    }
   ],
   "source": [
    "df"
   ]
  },
  {
   "cell_type": "code",
   "execution_count": 13,
   "id": "e9356b7b",
   "metadata": {},
   "outputs": [
    {
     "data": {
      "text/html": [
       "<div>\n",
       "<style scoped>\n",
       "    .dataframe tbody tr th:only-of-type {\n",
       "        vertical-align: middle;\n",
       "    }\n",
       "\n",
       "    .dataframe tbody tr th {\n",
       "        vertical-align: top;\n",
       "    }\n",
       "\n",
       "    .dataframe thead th {\n",
       "        text-align: right;\n",
       "    }\n",
       "</style>\n",
       "<table border=\"1\" class=\"dataframe\">\n",
       "  <thead>\n",
       "    <tr style=\"text-align: right;\">\n",
       "      <th></th>\n",
       "      <th>w</th>\n",
       "      <th>x</th>\n",
       "      <th>y</th>\n",
       "      <th>z</th>\n",
       "      <th>sachi</th>\n",
       "      <th>mayur</th>\n",
       "      <th>new</th>\n",
       "    </tr>\n",
       "  </thead>\n",
       "  <tbody>\n",
       "    <tr>\n",
       "      <th>0</th>\n",
       "      <td>0.751063</td>\n",
       "      <td>-1.690757</td>\n",
       "      <td>-1.543857</td>\n",
       "      <td>0.692312</td>\n",
       "      <td>1.443375</td>\n",
       "      <td>2.135687</td>\n",
       "      <td>1</td>\n",
       "    </tr>\n",
       "    <tr>\n",
       "      <th>1</th>\n",
       "      <td>0.023842</td>\n",
       "      <td>-0.729396</td>\n",
       "      <td>0.160331</td>\n",
       "      <td>0.102383</td>\n",
       "      <td>0.126226</td>\n",
       "      <td>0.228609</td>\n",
       "      <td>2</td>\n",
       "    </tr>\n",
       "    <tr>\n",
       "      <th>2</th>\n",
       "      <td>-1.721359</td>\n",
       "      <td>-0.713358</td>\n",
       "      <td>-0.869429</td>\n",
       "      <td>0.285601</td>\n",
       "      <td>-1.435758</td>\n",
       "      <td>-1.150157</td>\n",
       "      <td>3</td>\n",
       "    </tr>\n",
       "    <tr>\n",
       "      <th>3</th>\n",
       "      <td>0.409674</td>\n",
       "      <td>1.183396</td>\n",
       "      <td>-0.435503</td>\n",
       "      <td>-0.164376</td>\n",
       "      <td>0.245298</td>\n",
       "      <td>0.080922</td>\n",
       "      <td>4</td>\n",
       "    </tr>\n",
       "    <tr>\n",
       "      <th>4</th>\n",
       "      <td>0.451380</td>\n",
       "      <td>0.631830</td>\n",
       "      <td>1.476338</td>\n",
       "      <td>0.285065</td>\n",
       "      <td>0.736445</td>\n",
       "      <td>1.021509</td>\n",
       "      <td>5</td>\n",
       "    </tr>\n",
       "  </tbody>\n",
       "</table>\n",
       "</div>"
      ],
      "text/plain": [
       "          w         x         y         z     sachi     mayur  new\n",
       "0  0.751063 -1.690757 -1.543857  0.692312  1.443375  2.135687    1\n",
       "1  0.023842 -0.729396  0.160331  0.102383  0.126226  0.228609    2\n",
       "2 -1.721359 -0.713358 -0.869429  0.285601 -1.435758 -1.150157    3\n",
       "3  0.409674  1.183396 -0.435503 -0.164376  0.245298  0.080922    4\n",
       "4  0.451380  0.631830  1.476338  0.285065  0.736445  1.021509    5"
      ]
     },
     "execution_count": 13,
     "metadata": {},
     "output_type": "execute_result"
    }
   ],
   "source": [
    "df['new'] = [1,2,3,4,5]\n",
    "df"
   ]
  },
  {
   "cell_type": "code",
   "execution_count": 20,
   "id": "8cd0a47f",
   "metadata": {},
   "outputs": [
    {
     "data": {
      "text/html": [
       "<div>\n",
       "<style scoped>\n",
       "    .dataframe tbody tr th:only-of-type {\n",
       "        vertical-align: middle;\n",
       "    }\n",
       "\n",
       "    .dataframe tbody tr th {\n",
       "        vertical-align: top;\n",
       "    }\n",
       "\n",
       "    .dataframe thead th {\n",
       "        text-align: right;\n",
       "    }\n",
       "</style>\n",
       "<table border=\"1\" class=\"dataframe\">\n",
       "  <thead>\n",
       "    <tr style=\"text-align: right;\">\n",
       "      <th></th>\n",
       "      <th>w</th>\n",
       "      <th>x</th>\n",
       "      <th>y</th>\n",
       "      <th>z</th>\n",
       "      <th>mayur</th>\n",
       "      <th>new</th>\n",
       "    </tr>\n",
       "  </thead>\n",
       "  <tbody>\n",
       "    <tr>\n",
       "      <th>0</th>\n",
       "      <td>0.751063</td>\n",
       "      <td>-1.690757</td>\n",
       "      <td>-1.543857</td>\n",
       "      <td>0.692312</td>\n",
       "      <td>2.135687</td>\n",
       "      <td>1</td>\n",
       "    </tr>\n",
       "    <tr>\n",
       "      <th>1</th>\n",
       "      <td>0.023842</td>\n",
       "      <td>-0.729396</td>\n",
       "      <td>0.160331</td>\n",
       "      <td>0.102383</td>\n",
       "      <td>0.228609</td>\n",
       "      <td>2</td>\n",
       "    </tr>\n",
       "    <tr>\n",
       "      <th>2</th>\n",
       "      <td>-1.721359</td>\n",
       "      <td>-0.713358</td>\n",
       "      <td>-0.869429</td>\n",
       "      <td>0.285601</td>\n",
       "      <td>-1.150157</td>\n",
       "      <td>3</td>\n",
       "    </tr>\n",
       "    <tr>\n",
       "      <th>3</th>\n",
       "      <td>0.409674</td>\n",
       "      <td>1.183396</td>\n",
       "      <td>-0.435503</td>\n",
       "      <td>-0.164376</td>\n",
       "      <td>0.080922</td>\n",
       "      <td>4</td>\n",
       "    </tr>\n",
       "    <tr>\n",
       "      <th>4</th>\n",
       "      <td>0.451380</td>\n",
       "      <td>0.631830</td>\n",
       "      <td>1.476338</td>\n",
       "      <td>0.285065</td>\n",
       "      <td>1.021509</td>\n",
       "      <td>5</td>\n",
       "    </tr>\n",
       "  </tbody>\n",
       "</table>\n",
       "</div>"
      ],
      "text/plain": [
       "          w         x         y         z     mayur  new\n",
       "0  0.751063 -1.690757 -1.543857  0.692312  2.135687    1\n",
       "1  0.023842 -0.729396  0.160331  0.102383  0.228609    2\n",
       "2 -1.721359 -0.713358 -0.869429  0.285601 -1.150157    3\n",
       "3  0.409674  1.183396 -0.435503 -0.164376  0.080922    4\n",
       "4  0.451380  0.631830  1.476338  0.285065  1.021509    5"
      ]
     },
     "execution_count": 20,
     "metadata": {},
     "output_type": "execute_result"
    }
   ],
   "source": [
    "df.drop('sachi',axis=1)              # axis=1 means for delete"
   ]
  },
  {
   "cell_type": "code",
   "execution_count": 21,
   "id": "657cf74f",
   "metadata": {},
   "outputs": [
    {
     "data": {
      "text/html": [
       "<div>\n",
       "<style scoped>\n",
       "    .dataframe tbody tr th:only-of-type {\n",
       "        vertical-align: middle;\n",
       "    }\n",
       "\n",
       "    .dataframe tbody tr th {\n",
       "        vertical-align: top;\n",
       "    }\n",
       "\n",
       "    .dataframe thead th {\n",
       "        text-align: right;\n",
       "    }\n",
       "</style>\n",
       "<table border=\"1\" class=\"dataframe\">\n",
       "  <thead>\n",
       "    <tr style=\"text-align: right;\">\n",
       "      <th></th>\n",
       "      <th>w</th>\n",
       "      <th>x</th>\n",
       "      <th>y</th>\n",
       "      <th>z</th>\n",
       "      <th>sachi</th>\n",
       "      <th>mayur</th>\n",
       "      <th>new</th>\n",
       "    </tr>\n",
       "  </thead>\n",
       "  <tbody>\n",
       "    <tr>\n",
       "      <th>0</th>\n",
       "      <td>0.751063</td>\n",
       "      <td>-1.690757</td>\n",
       "      <td>-1.543857</td>\n",
       "      <td>0.692312</td>\n",
       "      <td>1.443375</td>\n",
       "      <td>2.135687</td>\n",
       "      <td>1</td>\n",
       "    </tr>\n",
       "    <tr>\n",
       "      <th>1</th>\n",
       "      <td>0.023842</td>\n",
       "      <td>-0.729396</td>\n",
       "      <td>0.160331</td>\n",
       "      <td>0.102383</td>\n",
       "      <td>0.126226</td>\n",
       "      <td>0.228609</td>\n",
       "      <td>2</td>\n",
       "    </tr>\n",
       "    <tr>\n",
       "      <th>2</th>\n",
       "      <td>-1.721359</td>\n",
       "      <td>-0.713358</td>\n",
       "      <td>-0.869429</td>\n",
       "      <td>0.285601</td>\n",
       "      <td>-1.435758</td>\n",
       "      <td>-1.150157</td>\n",
       "      <td>3</td>\n",
       "    </tr>\n",
       "    <tr>\n",
       "      <th>3</th>\n",
       "      <td>0.409674</td>\n",
       "      <td>1.183396</td>\n",
       "      <td>-0.435503</td>\n",
       "      <td>-0.164376</td>\n",
       "      <td>0.245298</td>\n",
       "      <td>0.080922</td>\n",
       "      <td>4</td>\n",
       "    </tr>\n",
       "    <tr>\n",
       "      <th>4</th>\n",
       "      <td>0.451380</td>\n",
       "      <td>0.631830</td>\n",
       "      <td>1.476338</td>\n",
       "      <td>0.285065</td>\n",
       "      <td>0.736445</td>\n",
       "      <td>1.021509</td>\n",
       "      <td>5</td>\n",
       "    </tr>\n",
       "  </tbody>\n",
       "</table>\n",
       "</div>"
      ],
      "text/plain": [
       "          w         x         y         z     sachi     mayur  new\n",
       "0  0.751063 -1.690757 -1.543857  0.692312  1.443375  2.135687    1\n",
       "1  0.023842 -0.729396  0.160331  0.102383  0.126226  0.228609    2\n",
       "2 -1.721359 -0.713358 -0.869429  0.285601 -1.435758 -1.150157    3\n",
       "3  0.409674  1.183396 -0.435503 -0.164376  0.245298  0.080922    4\n",
       "4  0.451380  0.631830  1.476338  0.285065  0.736445  1.021509    5"
      ]
     },
     "execution_count": 21,
     "metadata": {},
     "output_type": "execute_result"
    }
   ],
   "source": [
    "df"
   ]
  },
  {
   "cell_type": "code",
   "execution_count": 22,
   "id": "80e6fa1b",
   "metadata": {},
   "outputs": [],
   "source": [
    "df.drop('sachi',axis=1,inplace=True)"
   ]
  },
  {
   "cell_type": "code",
   "execution_count": 23,
   "id": "b7143646",
   "metadata": {},
   "outputs": [
    {
     "data": {
      "text/html": [
       "<div>\n",
       "<style scoped>\n",
       "    .dataframe tbody tr th:only-of-type {\n",
       "        vertical-align: middle;\n",
       "    }\n",
       "\n",
       "    .dataframe tbody tr th {\n",
       "        vertical-align: top;\n",
       "    }\n",
       "\n",
       "    .dataframe thead th {\n",
       "        text-align: right;\n",
       "    }\n",
       "</style>\n",
       "<table border=\"1\" class=\"dataframe\">\n",
       "  <thead>\n",
       "    <tr style=\"text-align: right;\">\n",
       "      <th></th>\n",
       "      <th>w</th>\n",
       "      <th>x</th>\n",
       "      <th>y</th>\n",
       "      <th>z</th>\n",
       "      <th>mayur</th>\n",
       "      <th>new</th>\n",
       "    </tr>\n",
       "  </thead>\n",
       "  <tbody>\n",
       "    <tr>\n",
       "      <th>0</th>\n",
       "      <td>0.751063</td>\n",
       "      <td>-1.690757</td>\n",
       "      <td>-1.543857</td>\n",
       "      <td>0.692312</td>\n",
       "      <td>2.135687</td>\n",
       "      <td>1</td>\n",
       "    </tr>\n",
       "    <tr>\n",
       "      <th>1</th>\n",
       "      <td>0.023842</td>\n",
       "      <td>-0.729396</td>\n",
       "      <td>0.160331</td>\n",
       "      <td>0.102383</td>\n",
       "      <td>0.228609</td>\n",
       "      <td>2</td>\n",
       "    </tr>\n",
       "    <tr>\n",
       "      <th>2</th>\n",
       "      <td>-1.721359</td>\n",
       "      <td>-0.713358</td>\n",
       "      <td>-0.869429</td>\n",
       "      <td>0.285601</td>\n",
       "      <td>-1.150157</td>\n",
       "      <td>3</td>\n",
       "    </tr>\n",
       "    <tr>\n",
       "      <th>3</th>\n",
       "      <td>0.409674</td>\n",
       "      <td>1.183396</td>\n",
       "      <td>-0.435503</td>\n",
       "      <td>-0.164376</td>\n",
       "      <td>0.080922</td>\n",
       "      <td>4</td>\n",
       "    </tr>\n",
       "    <tr>\n",
       "      <th>4</th>\n",
       "      <td>0.451380</td>\n",
       "      <td>0.631830</td>\n",
       "      <td>1.476338</td>\n",
       "      <td>0.285065</td>\n",
       "      <td>1.021509</td>\n",
       "      <td>5</td>\n",
       "    </tr>\n",
       "  </tbody>\n",
       "</table>\n",
       "</div>"
      ],
      "text/plain": [
       "          w         x         y         z     mayur  new\n",
       "0  0.751063 -1.690757 -1.543857  0.692312  2.135687    1\n",
       "1  0.023842 -0.729396  0.160331  0.102383  0.228609    2\n",
       "2 -1.721359 -0.713358 -0.869429  0.285601 -1.150157    3\n",
       "3  0.409674  1.183396 -0.435503 -0.164376  0.080922    4\n",
       "4  0.451380  0.631830  1.476338  0.285065  1.021509    5"
      ]
     },
     "execution_count": 23,
     "metadata": {},
     "output_type": "execute_result"
    }
   ],
   "source": [
    "df"
   ]
  },
  {
   "cell_type": "code",
   "execution_count": 24,
   "id": "0fd87600",
   "metadata": {},
   "outputs": [
    {
     "data": {
      "text/html": [
       "<div>\n",
       "<style scoped>\n",
       "    .dataframe tbody tr th:only-of-type {\n",
       "        vertical-align: middle;\n",
       "    }\n",
       "\n",
       "    .dataframe tbody tr th {\n",
       "        vertical-align: top;\n",
       "    }\n",
       "\n",
       "    .dataframe thead th {\n",
       "        text-align: right;\n",
       "    }\n",
       "</style>\n",
       "<table border=\"1\" class=\"dataframe\">\n",
       "  <thead>\n",
       "    <tr style=\"text-align: right;\">\n",
       "      <th></th>\n",
       "      <th>w</th>\n",
       "      <th>x</th>\n",
       "      <th>y</th>\n",
       "      <th>z</th>\n",
       "      <th>mayur</th>\n",
       "      <th>new</th>\n",
       "    </tr>\n",
       "  </thead>\n",
       "  <tbody>\n",
       "    <tr>\n",
       "      <th>0</th>\n",
       "      <td>0.751063</td>\n",
       "      <td>-1.690757</td>\n",
       "      <td>-1.543857</td>\n",
       "      <td>0.692312</td>\n",
       "      <td>2.135687</td>\n",
       "      <td>1</td>\n",
       "    </tr>\n",
       "    <tr>\n",
       "      <th>1</th>\n",
       "      <td>0.023842</td>\n",
       "      <td>-0.729396</td>\n",
       "      <td>0.160331</td>\n",
       "      <td>0.102383</td>\n",
       "      <td>0.228609</td>\n",
       "      <td>2</td>\n",
       "    </tr>\n",
       "    <tr>\n",
       "      <th>2</th>\n",
       "      <td>-1.721359</td>\n",
       "      <td>-0.713358</td>\n",
       "      <td>-0.869429</td>\n",
       "      <td>0.285601</td>\n",
       "      <td>-1.150157</td>\n",
       "      <td>3</td>\n",
       "    </tr>\n",
       "    <tr>\n",
       "      <th>4</th>\n",
       "      <td>0.451380</td>\n",
       "      <td>0.631830</td>\n",
       "      <td>1.476338</td>\n",
       "      <td>0.285065</td>\n",
       "      <td>1.021509</td>\n",
       "      <td>5</td>\n",
       "    </tr>\n",
       "  </tbody>\n",
       "</table>\n",
       "</div>"
      ],
      "text/plain": [
       "          w         x         y         z     mayur  new\n",
       "0  0.751063 -1.690757 -1.543857  0.692312  2.135687    1\n",
       "1  0.023842 -0.729396  0.160331  0.102383  0.228609    2\n",
       "2 -1.721359 -0.713358 -0.869429  0.285601 -1.150157    3\n",
       "4  0.451380  0.631830  1.476338  0.285065  1.021509    5"
      ]
     },
     "execution_count": 24,
     "metadata": {},
     "output_type": "execute_result"
    }
   ],
   "source": [
    "df.drop(3,axis=0)           # axis=0 means delete rows"
   ]
  },
  {
   "cell_type": "code",
   "execution_count": 25,
   "id": "15a44729",
   "metadata": {},
   "outputs": [
    {
     "data": {
      "text/html": [
       "<div>\n",
       "<style scoped>\n",
       "    .dataframe tbody tr th:only-of-type {\n",
       "        vertical-align: middle;\n",
       "    }\n",
       "\n",
       "    .dataframe tbody tr th {\n",
       "        vertical-align: top;\n",
       "    }\n",
       "\n",
       "    .dataframe thead th {\n",
       "        text-align: right;\n",
       "    }\n",
       "</style>\n",
       "<table border=\"1\" class=\"dataframe\">\n",
       "  <thead>\n",
       "    <tr style=\"text-align: right;\">\n",
       "      <th></th>\n",
       "      <th>w</th>\n",
       "      <th>x</th>\n",
       "      <th>y</th>\n",
       "      <th>z</th>\n",
       "      <th>mayur</th>\n",
       "      <th>new</th>\n",
       "    </tr>\n",
       "  </thead>\n",
       "  <tbody>\n",
       "    <tr>\n",
       "      <th>0</th>\n",
       "      <td>0.751063</td>\n",
       "      <td>-1.690757</td>\n",
       "      <td>-1.543857</td>\n",
       "      <td>0.692312</td>\n",
       "      <td>2.135687</td>\n",
       "      <td>1</td>\n",
       "    </tr>\n",
       "    <tr>\n",
       "      <th>1</th>\n",
       "      <td>0.023842</td>\n",
       "      <td>-0.729396</td>\n",
       "      <td>0.160331</td>\n",
       "      <td>0.102383</td>\n",
       "      <td>0.228609</td>\n",
       "      <td>2</td>\n",
       "    </tr>\n",
       "    <tr>\n",
       "      <th>2</th>\n",
       "      <td>-1.721359</td>\n",
       "      <td>-0.713358</td>\n",
       "      <td>-0.869429</td>\n",
       "      <td>0.285601</td>\n",
       "      <td>-1.150157</td>\n",
       "      <td>3</td>\n",
       "    </tr>\n",
       "    <tr>\n",
       "      <th>3</th>\n",
       "      <td>0.409674</td>\n",
       "      <td>1.183396</td>\n",
       "      <td>-0.435503</td>\n",
       "      <td>-0.164376</td>\n",
       "      <td>0.080922</td>\n",
       "      <td>4</td>\n",
       "    </tr>\n",
       "    <tr>\n",
       "      <th>4</th>\n",
       "      <td>0.451380</td>\n",
       "      <td>0.631830</td>\n",
       "      <td>1.476338</td>\n",
       "      <td>0.285065</td>\n",
       "      <td>1.021509</td>\n",
       "      <td>5</td>\n",
       "    </tr>\n",
       "  </tbody>\n",
       "</table>\n",
       "</div>"
      ],
      "text/plain": [
       "          w         x         y         z     mayur  new\n",
       "0  0.751063 -1.690757 -1.543857  0.692312  2.135687    1\n",
       "1  0.023842 -0.729396  0.160331  0.102383  0.228609    2\n",
       "2 -1.721359 -0.713358 -0.869429  0.285601 -1.150157    3\n",
       "3  0.409674  1.183396 -0.435503 -0.164376  0.080922    4\n",
       "4  0.451380  0.631830  1.476338  0.285065  1.021509    5"
      ]
     },
     "execution_count": 25,
     "metadata": {},
     "output_type": "execute_result"
    }
   ],
   "source": [
    "df"
   ]
  },
  {
   "cell_type": "code",
   "execution_count": 26,
   "id": "d529d0b3",
   "metadata": {},
   "outputs": [],
   "source": [
    "df.drop(3,axis=0,inplace=True)"
   ]
  },
  {
   "cell_type": "code",
   "execution_count": 27,
   "id": "8b37b898",
   "metadata": {},
   "outputs": [
    {
     "data": {
      "text/html": [
       "<div>\n",
       "<style scoped>\n",
       "    .dataframe tbody tr th:only-of-type {\n",
       "        vertical-align: middle;\n",
       "    }\n",
       "\n",
       "    .dataframe tbody tr th {\n",
       "        vertical-align: top;\n",
       "    }\n",
       "\n",
       "    .dataframe thead th {\n",
       "        text-align: right;\n",
       "    }\n",
       "</style>\n",
       "<table border=\"1\" class=\"dataframe\">\n",
       "  <thead>\n",
       "    <tr style=\"text-align: right;\">\n",
       "      <th></th>\n",
       "      <th>w</th>\n",
       "      <th>x</th>\n",
       "      <th>y</th>\n",
       "      <th>z</th>\n",
       "      <th>mayur</th>\n",
       "      <th>new</th>\n",
       "    </tr>\n",
       "  </thead>\n",
       "  <tbody>\n",
       "    <tr>\n",
       "      <th>0</th>\n",
       "      <td>0.751063</td>\n",
       "      <td>-1.690757</td>\n",
       "      <td>-1.543857</td>\n",
       "      <td>0.692312</td>\n",
       "      <td>2.135687</td>\n",
       "      <td>1</td>\n",
       "    </tr>\n",
       "    <tr>\n",
       "      <th>1</th>\n",
       "      <td>0.023842</td>\n",
       "      <td>-0.729396</td>\n",
       "      <td>0.160331</td>\n",
       "      <td>0.102383</td>\n",
       "      <td>0.228609</td>\n",
       "      <td>2</td>\n",
       "    </tr>\n",
       "    <tr>\n",
       "      <th>2</th>\n",
       "      <td>-1.721359</td>\n",
       "      <td>-0.713358</td>\n",
       "      <td>-0.869429</td>\n",
       "      <td>0.285601</td>\n",
       "      <td>-1.150157</td>\n",
       "      <td>3</td>\n",
       "    </tr>\n",
       "    <tr>\n",
       "      <th>4</th>\n",
       "      <td>0.451380</td>\n",
       "      <td>0.631830</td>\n",
       "      <td>1.476338</td>\n",
       "      <td>0.285065</td>\n",
       "      <td>1.021509</td>\n",
       "      <td>5</td>\n",
       "    </tr>\n",
       "  </tbody>\n",
       "</table>\n",
       "</div>"
      ],
      "text/plain": [
       "          w         x         y         z     mayur  new\n",
       "0  0.751063 -1.690757 -1.543857  0.692312  2.135687    1\n",
       "1  0.023842 -0.729396  0.160331  0.102383  0.228609    2\n",
       "2 -1.721359 -0.713358 -0.869429  0.285601 -1.150157    3\n",
       "4  0.451380  0.631830  1.476338  0.285065  1.021509    5"
      ]
     },
     "execution_count": 27,
     "metadata": {},
     "output_type": "execute_result"
    }
   ],
   "source": [
    "df"
   ]
  },
  {
   "cell_type": "code",
   "execution_count": 28,
   "id": "6494fa00",
   "metadata": {},
   "outputs": [
    {
     "data": {
      "text/plain": [
       "(4, 6)"
      ]
     },
     "execution_count": 28,
     "metadata": {},
     "output_type": "execute_result"
    }
   ],
   "source": [
    "df.shape"
   ]
  },
  {
   "cell_type": "code",
   "execution_count": 29,
   "id": "21eaade7",
   "metadata": {},
   "outputs": [
    {
     "data": {
      "text/plain": [
       "w       -1.721359\n",
       "x       -0.713358\n",
       "y       -0.869429\n",
       "z        0.285601\n",
       "mayur   -1.150157\n",
       "new      3.000000\n",
       "Name: 2, dtype: float64"
      ]
     },
     "execution_count": 29,
     "metadata": {},
     "output_type": "execute_result"
    }
   ],
   "source": [
    "df.iloc[2]"
   ]
  },
  {
   "cell_type": "code",
   "execution_count": 30,
   "id": "d8019f60",
   "metadata": {},
   "outputs": [
    {
     "data": {
      "text/plain": [
       "w        0.451380\n",
       "x        0.631830\n",
       "y        1.476338\n",
       "z        0.285065\n",
       "mayur    1.021509\n",
       "new      5.000000\n",
       "Name: 4, dtype: float64"
      ]
     },
     "execution_count": 30,
     "metadata": {},
     "output_type": "execute_result"
    }
   ],
   "source": [
    "df.iloc[3]"
   ]
  },
  {
   "cell_type": "code",
   "execution_count": 33,
   "id": "cbaa99aa",
   "metadata": {},
   "outputs": [],
   "source": [
    "df = pd.DataFrame(np.random.randn(5,4),columns=['w','x','y','z'])\n"
   ]
  },
  {
   "cell_type": "code",
   "execution_count": 34,
   "id": "7901dd40",
   "metadata": {},
   "outputs": [
    {
     "data": {
      "text/html": [
       "<div>\n",
       "<style scoped>\n",
       "    .dataframe tbody tr th:only-of-type {\n",
       "        vertical-align: middle;\n",
       "    }\n",
       "\n",
       "    .dataframe tbody tr th {\n",
       "        vertical-align: top;\n",
       "    }\n",
       "\n",
       "    .dataframe thead th {\n",
       "        text-align: right;\n",
       "    }\n",
       "</style>\n",
       "<table border=\"1\" class=\"dataframe\">\n",
       "  <thead>\n",
       "    <tr style=\"text-align: right;\">\n",
       "      <th></th>\n",
       "      <th>w</th>\n",
       "      <th>x</th>\n",
       "      <th>y</th>\n",
       "      <th>z</th>\n",
       "    </tr>\n",
       "  </thead>\n",
       "  <tbody>\n",
       "    <tr>\n",
       "      <th>0</th>\n",
       "      <td>1.753864</td>\n",
       "      <td>0.855284</td>\n",
       "      <td>0.369739</td>\n",
       "      <td>-0.164017</td>\n",
       "    </tr>\n",
       "    <tr>\n",
       "      <th>1</th>\n",
       "      <td>0.255798</td>\n",
       "      <td>0.645524</td>\n",
       "      <td>0.028028</td>\n",
       "      <td>0.344778</td>\n",
       "    </tr>\n",
       "    <tr>\n",
       "      <th>2</th>\n",
       "      <td>0.486883</td>\n",
       "      <td>-0.445816</td>\n",
       "      <td>0.411161</td>\n",
       "      <td>0.097266</td>\n",
       "    </tr>\n",
       "    <tr>\n",
       "      <th>3</th>\n",
       "      <td>-0.381556</td>\n",
       "      <td>-1.362089</td>\n",
       "      <td>-0.988651</td>\n",
       "      <td>0.094888</td>\n",
       "    </tr>\n",
       "    <tr>\n",
       "      <th>4</th>\n",
       "      <td>1.432361</td>\n",
       "      <td>-0.205903</td>\n",
       "      <td>-0.178331</td>\n",
       "      <td>0.177363</td>\n",
       "    </tr>\n",
       "  </tbody>\n",
       "</table>\n",
       "</div>"
      ],
      "text/plain": [
       "          w         x         y         z\n",
       "0  1.753864  0.855284  0.369739 -0.164017\n",
       "1  0.255798  0.645524  0.028028  0.344778\n",
       "2  0.486883 -0.445816  0.411161  0.097266\n",
       "3 -0.381556 -1.362089 -0.988651  0.094888\n",
       "4  1.432361 -0.205903 -0.178331  0.177363"
      ]
     },
     "execution_count": 34,
     "metadata": {},
     "output_type": "execute_result"
    }
   ],
   "source": [
    "df"
   ]
  },
  {
   "cell_type": "code",
   "execution_count": 35,
   "id": "57abf83f",
   "metadata": {},
   "outputs": [
    {
     "data": {
      "text/html": [
       "<div>\n",
       "<style scoped>\n",
       "    .dataframe tbody tr th:only-of-type {\n",
       "        vertical-align: middle;\n",
       "    }\n",
       "\n",
       "    .dataframe tbody tr th {\n",
       "        vertical-align: top;\n",
       "    }\n",
       "\n",
       "    .dataframe thead th {\n",
       "        text-align: right;\n",
       "    }\n",
       "</style>\n",
       "<table border=\"1\" class=\"dataframe\">\n",
       "  <thead>\n",
       "    <tr style=\"text-align: right;\">\n",
       "      <th></th>\n",
       "      <th>y</th>\n",
       "      <th>z</th>\n",
       "    </tr>\n",
       "  </thead>\n",
       "  <tbody>\n",
       "    <tr>\n",
       "      <th>0</th>\n",
       "      <td>0.369739</td>\n",
       "      <td>-0.164017</td>\n",
       "    </tr>\n",
       "    <tr>\n",
       "      <th>1</th>\n",
       "      <td>0.028028</td>\n",
       "      <td>0.344778</td>\n",
       "    </tr>\n",
       "    <tr>\n",
       "      <th>2</th>\n",
       "      <td>0.411161</td>\n",
       "      <td>0.097266</td>\n",
       "    </tr>\n",
       "    <tr>\n",
       "      <th>3</th>\n",
       "      <td>-0.988651</td>\n",
       "      <td>0.094888</td>\n",
       "    </tr>\n",
       "    <tr>\n",
       "      <th>4</th>\n",
       "      <td>-0.178331</td>\n",
       "      <td>0.177363</td>\n",
       "    </tr>\n",
       "  </tbody>\n",
       "</table>\n",
       "</div>"
      ],
      "text/plain": [
       "          y         z\n",
       "0  0.369739 -0.164017\n",
       "1  0.028028  0.344778\n",
       "2  0.411161  0.097266\n",
       "3 -0.988651  0.094888\n",
       "4 -0.178331  0.177363"
      ]
     },
     "execution_count": 35,
     "metadata": {},
     "output_type": "execute_result"
    }
   ],
   "source": [
    "df.iloc[0:,2:]"
   ]
  },
  {
   "cell_type": "code",
   "execution_count": 36,
   "id": "76e1418a",
   "metadata": {},
   "outputs": [
    {
     "data": {
      "text/html": [
       "<div>\n",
       "<style scoped>\n",
       "    .dataframe tbody tr th:only-of-type {\n",
       "        vertical-align: middle;\n",
       "    }\n",
       "\n",
       "    .dataframe tbody tr th {\n",
       "        vertical-align: top;\n",
       "    }\n",
       "\n",
       "    .dataframe thead th {\n",
       "        text-align: right;\n",
       "    }\n",
       "</style>\n",
       "<table border=\"1\" class=\"dataframe\">\n",
       "  <thead>\n",
       "    <tr style=\"text-align: right;\">\n",
       "      <th></th>\n",
       "      <th>y</th>\n",
       "      <th>z</th>\n",
       "    </tr>\n",
       "  </thead>\n",
       "  <tbody>\n",
       "    <tr>\n",
       "      <th>2</th>\n",
       "      <td>0.411161</td>\n",
       "      <td>0.097266</td>\n",
       "    </tr>\n",
       "    <tr>\n",
       "      <th>3</th>\n",
       "      <td>-0.988651</td>\n",
       "      <td>0.094888</td>\n",
       "    </tr>\n",
       "    <tr>\n",
       "      <th>4</th>\n",
       "      <td>-0.178331</td>\n",
       "      <td>0.177363</td>\n",
       "    </tr>\n",
       "  </tbody>\n",
       "</table>\n",
       "</div>"
      ],
      "text/plain": [
       "          y         z\n",
       "2  0.411161  0.097266\n",
       "3 -0.988651  0.094888\n",
       "4 -0.178331  0.177363"
      ]
     },
     "execution_count": 36,
     "metadata": {},
     "output_type": "execute_result"
    }
   ],
   "source": [
    "df.iloc[2:,2:]"
   ]
  },
  {
   "cell_type": "code",
   "execution_count": 37,
   "id": "ee3aee39",
   "metadata": {},
   "outputs": [
    {
     "data": {
      "text/html": [
       "<div>\n",
       "<style scoped>\n",
       "    .dataframe tbody tr th:only-of-type {\n",
       "        vertical-align: middle;\n",
       "    }\n",
       "\n",
       "    .dataframe tbody tr th {\n",
       "        vertical-align: top;\n",
       "    }\n",
       "\n",
       "    .dataframe thead th {\n",
       "        text-align: right;\n",
       "    }\n",
       "</style>\n",
       "<table border=\"1\" class=\"dataframe\">\n",
       "  <thead>\n",
       "    <tr style=\"text-align: right;\">\n",
       "      <th></th>\n",
       "      <th>y</th>\n",
       "      <th>z</th>\n",
       "    </tr>\n",
       "  </thead>\n",
       "  <tbody>\n",
       "    <tr>\n",
       "      <th>0</th>\n",
       "      <td>0.369739</td>\n",
       "      <td>-0.164017</td>\n",
       "    </tr>\n",
       "    <tr>\n",
       "      <th>1</th>\n",
       "      <td>0.028028</td>\n",
       "      <td>0.344778</td>\n",
       "    </tr>\n",
       "    <tr>\n",
       "      <th>2</th>\n",
       "      <td>0.411161</td>\n",
       "      <td>0.097266</td>\n",
       "    </tr>\n",
       "  </tbody>\n",
       "</table>\n",
       "</div>"
      ],
      "text/plain": [
       "          y         z\n",
       "0  0.369739 -0.164017\n",
       "1  0.028028  0.344778\n",
       "2  0.411161  0.097266"
      ]
     },
     "execution_count": 37,
     "metadata": {},
     "output_type": "execute_result"
    }
   ],
   "source": [
    "df.iloc[0:3,2:]"
   ]
  },
  {
   "cell_type": "markdown",
   "id": "77790e8a",
   "metadata": {},
   "source": [
    "# Matplotlib "
   ]
  },
  {
   "cell_type": "markdown",
   "id": "e57abcf5",
   "metadata": {},
   "source": [
    "### Visualization libray"
   ]
  },
  {
   "cell_type": "markdown",
   "id": "e1b72256",
   "metadata": {},
   "source": [
    "### Matplotlib is a comprehensive library for creating static,animated and interactive visualization in python."
   ]
  },
  {
   "cell_type": "code",
   "execution_count": 39,
   "id": "db08c180",
   "metadata": {},
   "outputs": [],
   "source": [
    "import matplotlib.pyplot as plt"
   ]
  },
  {
   "cell_type": "code",
   "execution_count": 40,
   "id": "10aa2237",
   "metadata": {},
   "outputs": [],
   "source": [
    "a = np.linspace(0,5,11)"
   ]
  },
  {
   "cell_type": "code",
   "execution_count": 41,
   "id": "e2b10a4f",
   "metadata": {},
   "outputs": [
    {
     "data": {
      "text/plain": [
       "array([0. , 0.5, 1. , 1.5, 2. , 2.5, 3. , 3.5, 4. , 4.5, 5. ])"
      ]
     },
     "execution_count": 41,
     "metadata": {},
     "output_type": "execute_result"
    }
   ],
   "source": [
    "a"
   ]
  },
  {
   "cell_type": "code",
   "execution_count": 44,
   "id": "5184117d",
   "metadata": {},
   "outputs": [],
   "source": [
    "b = a**2"
   ]
  },
  {
   "cell_type": "code",
   "execution_count": 45,
   "id": "3d5fd75d",
   "metadata": {},
   "outputs": [
    {
     "data": {
      "text/plain": [
       "array([ 0.  ,  0.25,  1.  ,  2.25,  4.  ,  6.25,  9.  , 12.25, 16.  ,\n",
       "       20.25, 25.  ])"
      ]
     },
     "execution_count": 45,
     "metadata": {},
     "output_type": "execute_result"
    }
   ],
   "source": [
    "b"
   ]
  },
  {
   "cell_type": "code",
   "execution_count": 46,
   "id": "3a12eed1",
   "metadata": {},
   "outputs": [],
   "source": [
    "c = np.array([2,4,6,8,9,2])"
   ]
  },
  {
   "cell_type": "code",
   "execution_count": 47,
   "id": "9bab0ae7",
   "metadata": {},
   "outputs": [
    {
     "data": {
      "text/plain": [
       "array([2, 4, 6, 8, 9, 2])"
      ]
     },
     "execution_count": 47,
     "metadata": {},
     "output_type": "execute_result"
    }
   ],
   "source": [
    "c"
   ]
  },
  {
   "cell_type": "code",
   "execution_count": 49,
   "id": "064733c0",
   "metadata": {},
   "outputs": [
    {
     "data": {
      "text/plain": [
       "<function matplotlib.pyplot.show(close=None, block=None)>"
      ]
     },
     "execution_count": 49,
     "metadata": {},
     "output_type": "execute_result"
    },
    {
     "data": {
      "image/png": "[encoded data removed]",
      "text/plain": [
       "<Figure size 640x480 with 1 Axes>"
      ]
     },
     "metadata": {},
     "output_type": "display_data"
    }
   ],
   "source": [
    "plt.plot(a,b)\n",
    "plt.title('sparrowAi',fontsize=20)\n",
    "plt.xlabel('A',fontsize=18)\n",
    "plt.ylabel('b',fontsize=18)\n",
    "plt.show"
   ]
  },
  {
   "cell_type": "code",
   "execution_count": 50,
   "id": "cf69ef50",
   "metadata": {},
   "outputs": [
    {
     "data": {
      "text/plain": [
       "<function matplotlib.pyplot.show(close=None, block=None)>"
      ]
     },
     "execution_count": 50,
     "metadata": {},
     "output_type": "execute_result"
    },
    {
     "data": {
      "image/png": "[encoded data removed]",
      "text/plain": [
       "<Figure size 640x480 with 1 Axes>"
      ]
     },
     "metadata": {},
     "output_type": "display_data"
    }
   ],
   "source": [
    "plt.scatter(a,b)\n",
    "plt.title('sparrowAi',fontsize=20)\n",
    "plt.xlabel('A',fontsize=18)\n",
    "plt.ylabel('B',fontsize=18)\n",
    "plt.show"
   ]
  },
  {
   "cell_type": "code",
   "execution_count": 51,
   "id": "b9ea83f2",
   "metadata": {},
   "outputs": [
    {
     "data": {
      "text/plain": [
       "<function matplotlib.pyplot.show(close=None, block=None)>"
      ]
     },
     "execution_count": 51,
     "metadata": {},
     "output_type": "execute_result"
    },
    {
     "data": {
      "image/png": "[encoded data removed]",
      "text/plain": [
       "<Figure size 640x480 with 1 Axes>"
      ]
     },
     "metadata": {},
     "output_type": "display_data"
    }
   ],
   "source": [
    "plt.bar(a,b)\n",
    "plt.title('sparrowAi',fontsize=20)\n",
    "plt.xlabel('A',fontsize=18)\n",
    "plt.ylabel('B',fontsize=18)\n",
    "plt.show"
   ]
  },
  {
   "cell_type": "code",
   "execution_count": 52,
   "id": "cb56d625",
   "metadata": {},
   "outputs": [
    {
     "data": {
      "text/plain": [
       "<function matplotlib.pyplot.show(close=None, block=None)>"
      ]
     },
     "execution_count": 52,
     "metadata": {},
     "output_type": "execute_result"
    },
    {
     "data": {
      "image/png": "[encoded data removed]",
      "text/plain": [
       "<Figure size 640x480 with 1 Axes>"
      ]
     },
     "metadata": {},
     "output_type": "display_data"
    }
   ],
   "source": [
    "plt.pie(c)\n",
    "plt.title('sparrowAi',fontsize=20)\n",
    "plt.xlabel('A',fontsize=18)\n",
    "plt.ylabel('B',fontsize=18)\n",
    "plt.show"
   ]
  },
  {
   "cell_type": "code",
   "execution_count": 56,
   "id": "17acaab7",
   "metadata": {},
   "outputs": [
    {
     "data": {
      "text/plain": [
       "<function matplotlib.pyplot.show(close=None, block=None)>"
      ]
     },
     "execution_count": 56,
     "metadata": {},
     "output_type": "execute_result"
    },
    {
     "data": {
      "image/png": "[encoded data removed]",
      "text/plain": [
       "<Figure size 640x480 with 1 Axes>"
      ]
     },
     "metadata": {},
     "output_type": "display_data"
    }
   ],
   "source": [
    "plt.bar(a,b)\n",
    "plt.title('sparrowAi',fontsize=20)\n",
    "plt.xlabel('A',fontsize=18)\n",
    "plt.ylabel('B',fontsize=18)\n",
    "plt.show"
   ]
  },
  {
   "cell_type": "code",
   "execution_count": 65,
   "id": "de6f17be",
   "metadata": {},
   "outputs": [
    {
     "ename": "ValueError",
     "evalue": "x and y must have same first dimension, but have shapes (7,) and (8,)",
     "output_type": "error",
     "traceback": [
      "\u001b[1;31m---------------------------------------------------------------------------\u001b[0m",
      "\u001b[1;31mValueError\u001b[0m                                Traceback (most recent call last)",
      "Cell \u001b[1;32mIn[65], line 7\u001b[0m\n\u001b[0;32m      4\u001b[0m a \u001b[38;5;241m=\u001b[39m np\u001b[38;5;241m.\u001b[39marray([\u001b[38;5;241m10\u001b[39m,\u001b[38;5;241m2\u001b[39m,\u001b[38;5;241m33\u001b[39m,\u001b[38;5;241m45\u001b[39m,\u001b[38;5;241m5\u001b[39m,\u001b[38;5;241m66\u001b[39m,\u001b[38;5;241m7\u001b[39m,\u001b[38;5;241m8\u001b[39m])\n\u001b[0;32m      5\u001b[0m b \u001b[38;5;241m=\u001b[39m np\u001b[38;5;241m.\u001b[39marray([\u001b[38;5;241m1\u001b[39m,\u001b[38;5;241m24\u001b[39m,\u001b[38;5;241m3\u001b[39m,\u001b[38;5;241m44\u001b[39m,\u001b[38;5;241m5\u001b[39m,\u001b[38;5;241m64\u001b[39m,\u001b[38;5;241m7\u001b[39m])\n\u001b[1;32m----> 7\u001b[0m \u001b[43mplt\u001b[49m\u001b[38;5;241;43m.\u001b[39;49m\u001b[43mplot\u001b[49m\u001b[43m(\u001b[49m\u001b[43mb\u001b[49m\u001b[43m,\u001b[49m\u001b[43ma\u001b[49m\u001b[43m)\u001b[49m\n\u001b[0;32m      8\u001b[0m plt\u001b[38;5;241m.\u001b[39mtitle(\u001b[38;5;124m'\u001b[39m\u001b[38;5;124mincome\u001b[39m\u001b[38;5;124m'\u001b[39m)\n\u001b[0;32m      9\u001b[0m plt\u001b[38;5;241m.\u001b[39mxlabel(\u001b[38;5;124m'\u001b[39m\u001b[38;5;124mmy\u001b[39m\u001b[38;5;124m'\u001b[39m)\n",
      "File \u001b[1;32mC:\\ProgramData\\anaconda3\\lib\\site-packages\\matplotlib\\pyplot.py:2785\u001b[0m, in \u001b[0;36mplot\u001b[1;34m(scalex, scaley, data, *args, **kwargs)\u001b[0m\n\u001b[0;32m   2783\u001b[0m \u001b[38;5;129m@_copy_docstring_and_deprecators\u001b[39m(Axes\u001b[38;5;241m.\u001b[39mplot)\n\u001b[0;32m   2784\u001b[0m \u001b[38;5;28;01mdef\u001b[39;00m \u001b[38;5;21mplot\u001b[39m(\u001b[38;5;241m*\u001b[39margs, scalex\u001b[38;5;241m=\u001b[39m\u001b[38;5;28;01mTrue\u001b[39;00m, scaley\u001b[38;5;241m=\u001b[39m\u001b[38;5;28;01mTrue\u001b[39;00m, data\u001b[38;5;241m=\u001b[39m\u001b[38;5;28;01mNone\u001b[39;00m, \u001b[38;5;241m*\u001b[39m\u001b[38;5;241m*\u001b[39mkwargs):\n\u001b[1;32m-> 2785\u001b[0m     \u001b[38;5;28;01mreturn\u001b[39;00m gca()\u001b[38;5;241m.\u001b[39mplot(\n\u001b[0;32m   2786\u001b[0m         \u001b[38;5;241m*\u001b[39margs, scalex\u001b[38;5;241m=\u001b[39mscalex, scaley\u001b[38;5;241m=\u001b[39mscaley,\n\u001b[0;32m   2787\u001b[0m         \u001b[38;5;241m*\u001b[39m\u001b[38;5;241m*\u001b[39m({\u001b[38;5;124m\"\u001b[39m\u001b[38;5;124mdata\u001b[39m\u001b[38;5;124m\"\u001b[39m: data} \u001b[38;5;28;01mif\u001b[39;00m data \u001b[38;5;129;01mis\u001b[39;00m \u001b[38;5;129;01mnot\u001b[39;00m \u001b[38;5;28;01mNone\u001b[39;00m \u001b[38;5;28;01melse\u001b[39;00m {}), \u001b[38;5;241m*\u001b[39m\u001b[38;5;241m*\u001b[39mkwargs)\n",
      "File \u001b[1;32mC:\\ProgramData\\anaconda3\\lib\\site-packages\\matplotlib\\axes\\_axes.py:1688\u001b[0m, in \u001b[0;36mAxes.plot\u001b[1;34m(self, scalex, scaley, data, *args, **kwargs)\u001b[0m\n\u001b[0;32m   1445\u001b[0m \u001b[38;5;124;03m\"\"\"\u001b[39;00m\n\u001b[0;32m   1446\u001b[0m \u001b[38;5;124;03mPlot y versus x as lines and/or markers.\u001b[39;00m\n\u001b[0;32m   1447\u001b[0m \n\u001b[1;32m   (...)\u001b[0m\n\u001b[0;32m   1685\u001b[0m \u001b[38;5;124;03m(``'green'``) or hex strings (``'#008000'``).\u001b[39;00m\n\u001b[0;32m   1686\u001b[0m \u001b[38;5;124;03m\"\"\"\u001b[39;00m\n\u001b[0;32m   1687\u001b[0m kwargs \u001b[38;5;241m=\u001b[39m cbook\u001b[38;5;241m.\u001b[39mnormalize_kwargs(kwargs, mlines\u001b[38;5;241m.\u001b[39mLine2D)\n\u001b[1;32m-> 1688\u001b[0m lines \u001b[38;5;241m=\u001b[39m [\u001b[38;5;241m*\u001b[39m\u001b[38;5;28mself\u001b[39m\u001b[38;5;241m.\u001b[39m_get_lines(\u001b[38;5;241m*\u001b[39margs, data\u001b[38;5;241m=\u001b[39mdata, \u001b[38;5;241m*\u001b[39m\u001b[38;5;241m*\u001b[39mkwargs)]\n\u001b[0;32m   1689\u001b[0m \u001b[38;5;28;01mfor\u001b[39;00m line \u001b[38;5;129;01min\u001b[39;00m lines:\n\u001b[0;32m   1690\u001b[0m     \u001b[38;5;28mself\u001b[39m\u001b[38;5;241m.\u001b[39madd_line(line)\n",
      "File \u001b[1;32mC:\\ProgramData\\anaconda3\\lib\\site-packages\\matplotlib\\axes\\_base.py:311\u001b[0m, in \u001b[0;36m_process_plot_var_args.__call__\u001b[1;34m(self, data, *args, **kwargs)\u001b[0m\n\u001b[0;32m    309\u001b[0m     this \u001b[38;5;241m+\u001b[39m\u001b[38;5;241m=\u001b[39m args[\u001b[38;5;241m0\u001b[39m],\n\u001b[0;32m    310\u001b[0m     args \u001b[38;5;241m=\u001b[39m args[\u001b[38;5;241m1\u001b[39m:]\n\u001b[1;32m--> 311\u001b[0m \u001b[38;5;28;01myield from\u001b[39;00m \u001b[38;5;28;43mself\u001b[39;49m\u001b[38;5;241;43m.\u001b[39;49m\u001b[43m_plot_args\u001b[49m\u001b[43m(\u001b[49m\n\u001b[0;32m    312\u001b[0m \u001b[43m    \u001b[49m\u001b[43mthis\u001b[49m\u001b[43m,\u001b[49m\u001b[43m \u001b[49m\u001b[43mkwargs\u001b[49m\u001b[43m,\u001b[49m\u001b[43m \u001b[49m\u001b[43mambiguous_fmt_datakey\u001b[49m\u001b[38;5;241;43m=\u001b[39;49m\u001b[43mambiguous_fmt_datakey\u001b[49m\u001b[43m)\u001b[49m\n",
      "File \u001b[1;32mC:\\ProgramData\\anaconda3\\lib\\site-packages\\matplotlib\\axes\\_base.py:504\u001b[0m, in \u001b[0;36m_process_plot_var_args._plot_args\u001b[1;34m(self, tup, kwargs, return_kwargs, ambiguous_fmt_datakey)\u001b[0m\n\u001b[0;32m    501\u001b[0m     \u001b[38;5;28mself\u001b[39m\u001b[38;5;241m.\u001b[39maxes\u001b[38;5;241m.\u001b[39myaxis\u001b[38;5;241m.\u001b[39mupdate_units(y)\n\u001b[0;32m    503\u001b[0m \u001b[38;5;28;01mif\u001b[39;00m x\u001b[38;5;241m.\u001b[39mshape[\u001b[38;5;241m0\u001b[39m] \u001b[38;5;241m!=\u001b[39m y\u001b[38;5;241m.\u001b[39mshape[\u001b[38;5;241m0\u001b[39m]:\n\u001b[1;32m--> 504\u001b[0m     \u001b[38;5;28;01mraise\u001b[39;00m \u001b[38;5;167;01mValueError\u001b[39;00m(\u001b[38;5;124mf\u001b[39m\u001b[38;5;124m\"\u001b[39m\u001b[38;5;124mx and y must have same first dimension, but \u001b[39m\u001b[38;5;124m\"\u001b[39m\n\u001b[0;32m    505\u001b[0m                      \u001b[38;5;124mf\u001b[39m\u001b[38;5;124m\"\u001b[39m\u001b[38;5;124mhave shapes \u001b[39m\u001b[38;5;132;01m{\u001b[39;00mx\u001b[38;5;241m.\u001b[39mshape\u001b[38;5;132;01m}\u001b[39;00m\u001b[38;5;124m and \u001b[39m\u001b[38;5;132;01m{\u001b[39;00my\u001b[38;5;241m.\u001b[39mshape\u001b[38;5;132;01m}\u001b[39;00m\u001b[38;5;124m\"\u001b[39m)\n\u001b[0;32m    506\u001b[0m \u001b[38;5;28;01mif\u001b[39;00m x\u001b[38;5;241m.\u001b[39mndim \u001b[38;5;241m>\u001b[39m \u001b[38;5;241m2\u001b[39m \u001b[38;5;129;01mor\u001b[39;00m y\u001b[38;5;241m.\u001b[39mndim \u001b[38;5;241m>\u001b[39m \u001b[38;5;241m2\u001b[39m:\n\u001b[0;32m    507\u001b[0m     \u001b[38;5;28;01mraise\u001b[39;00m \u001b[38;5;167;01mValueError\u001b[39;00m(\u001b[38;5;124mf\u001b[39m\u001b[38;5;124m\"\u001b[39m\u001b[38;5;124mx and y can be no greater than 2D, but have \u001b[39m\u001b[38;5;124m\"\u001b[39m\n\u001b[0;32m    508\u001b[0m                      \u001b[38;5;124mf\u001b[39m\u001b[38;5;124m\"\u001b[39m\u001b[38;5;124mshapes \u001b[39m\u001b[38;5;132;01m{\u001b[39;00mx\u001b[38;5;241m.\u001b[39mshape\u001b[38;5;132;01m}\u001b[39;00m\u001b[38;5;124m and \u001b[39m\u001b[38;5;132;01m{\u001b[39;00my\u001b[38;5;241m.\u001b[39mshape\u001b[38;5;132;01m}\u001b[39;00m\u001b[38;5;124m\"\u001b[39m)\n",
      "\u001b[1;31mValueError\u001b[0m: x and y must have same first dimension, but have shapes (7,) and (8,)"
     ]
    },
    {
     "data": {
      "image/png": "[encoded data removed]",
      "text/plain": [
       "<Figure size 640x480 with 1 Axes>"
      ]
     },
     "metadata": {},
     "output_type": "display_data"
    }
   ],
   "source": [
    "import numpy as np\n",
    "import matplotlib.pyplot as plt\n",
    "\n",
    "a = np.array([10,2,33,45,5,66,7,8])\n",
    "b = np.array([1,24,3,44,5,64,7])\n",
    "\n",
    "plt.plot(b,a)\n",
    "plt.title('income')\n",
    "plt.xlabel('my')\n",
    "plt.ylabel('him')\n",
    "plt.show"
   ]
  },
  {
   "cell_type": "code",
   "execution_count": 10,
   "id": "1d8e1ca4",
   "metadata": {},
   "outputs": [],
   "source": [
    "# Dataframe\n",
    "\n",
    "import numpy as np \n",
    "import pandas as pd\n",
    "\n",
    "df = pd.DataFrame(np.random.randn(5,4),columns=['a','b','c','d'])"
   ]
  },
  {
   "cell_type": "code",
   "execution_count": 11,
   "id": "51158eca",
   "metadata": {},
   "outputs": [
    {
     "data": {
      "text/html": [
       "<div>\n",
       "<style scoped>\n",
       "    .dataframe tbody tr th:only-of-type {\n",
       "        vertical-align: middle;\n",
       "    }\n",
       "\n",
       "    .dataframe tbody tr th {\n",
       "        vertical-align: top;\n",
       "    }\n",
       "\n",
       "    .dataframe thead th {\n",
       "        text-align: right;\n",
       "    }\n",
       "</style>\n",
       "<table border=\"1\" class=\"dataframe\">\n",
       "  <thead>\n",
       "    <tr style=\"text-align: right;\">\n",
       "      <th></th>\n",
       "      <th>a</th>\n",
       "      <th>b</th>\n",
       "      <th>c</th>\n",
       "      <th>d</th>\n",
       "    </tr>\n",
       "  </thead>\n",
       "  <tbody>\n",
       "    <tr>\n",
       "      <th>0</th>\n",
       "      <td>0.015589</td>\n",
       "      <td>1.096783</td>\n",
       "      <td>-0.203380</td>\n",
       "      <td>-0.897955</td>\n",
       "    </tr>\n",
       "    <tr>\n",
       "      <th>1</th>\n",
       "      <td>-0.121894</td>\n",
       "      <td>0.506994</td>\n",
       "      <td>-0.543127</td>\n",
       "      <td>1.269502</td>\n",
       "    </tr>\n",
       "    <tr>\n",
       "      <th>2</th>\n",
       "      <td>-0.290642</td>\n",
       "      <td>0.010169</td>\n",
       "      <td>1.054724</td>\n",
       "      <td>-1.335085</td>\n",
       "    </tr>\n",
       "    <tr>\n",
       "      <th>3</th>\n",
       "      <td>0.818006</td>\n",
       "      <td>0.203335</td>\n",
       "      <td>-0.635569</td>\n",
       "      <td>-0.795598</td>\n",
       "    </tr>\n",
       "    <tr>\n",
       "      <th>4</th>\n",
       "      <td>-0.416378</td>\n",
       "      <td>-0.620346</td>\n",
       "      <td>0.551306</td>\n",
       "      <td>1.006346</td>\n",
       "    </tr>\n",
       "  </tbody>\n",
       "</table>\n",
       "</div>"
      ],
      "text/plain": [
       "          a         b         c         d\n",
       "0  0.015589  1.096783 -0.203380 -0.897955\n",
       "1 -0.121894  0.506994 -0.543127  1.269502\n",
       "2 -0.290642  0.010169  1.054724 -1.335085\n",
       "3  0.818006  0.203335 -0.635569 -0.795598\n",
       "4 -0.416378 -0.620346  0.551306  1.006346"
      ]
     },
     "execution_count": 11,
     "metadata": {},
     "output_type": "execute_result"
    }
   ],
   "source": [
    "df"
   ]
  },
  {
   "cell_type": "code",
   "execution_count": 13,
   "id": "0623d5c4",
   "metadata": {},
   "outputs": [
    {
     "data": {
      "text/plain": [
       "0    0.015589\n",
       "1   -0.121894\n",
       "2   -0.290642\n",
       "3    0.818006\n",
       "4   -0.416378\n",
       "Name: a, dtype: float64"
      ]
     },
     "execution_count": 13,
     "metadata": {},
     "output_type": "execute_result"
    }
   ],
   "source": [
    "df['a']"
   ]
  },
  {
   "cell_type": "code",
   "execution_count": 14,
   "id": "706ba2f3",
   "metadata": {},
   "outputs": [
    {
     "data": {
      "text/plain": [
       "pandas.core.series.Series"
      ]
     },
     "execution_count": 14,
     "metadata": {},
     "output_type": "execute_result"
    }
   ],
   "source": [
    "type(df['a'])"
   ]
  },
  {
   "cell_type": "code",
   "execution_count": 19,
   "id": "3635599c",
   "metadata": {},
   "outputs": [],
   "source": [
    "df['sachi'] = df['a'] + df['b']"
   ]
  },
  {
   "cell_type": "code",
   "execution_count": 20,
   "id": "f33699fd",
   "metadata": {},
   "outputs": [
    {
     "data": {
      "text/html": [
       "<div>\n",
       "<style scoped>\n",
       "    .dataframe tbody tr th:only-of-type {\n",
       "        vertical-align: middle;\n",
       "    }\n",
       "\n",
       "    .dataframe tbody tr th {\n",
       "        vertical-align: top;\n",
       "    }\n",
       "\n",
       "    .dataframe thead th {\n",
       "        text-align: right;\n",
       "    }\n",
       "</style>\n",
       "<table border=\"1\" class=\"dataframe\">\n",
       "  <thead>\n",
       "    <tr style=\"text-align: right;\">\n",
       "      <th></th>\n",
       "      <th>a</th>\n",
       "      <th>b</th>\n",
       "      <th>c</th>\n",
       "      <th>d</th>\n",
       "      <th>sachi</th>\n",
       "    </tr>\n",
       "  </thead>\n",
       "  <tbody>\n",
       "    <tr>\n",
       "      <th>0</th>\n",
       "      <td>0.015589</td>\n",
       "      <td>1.096783</td>\n",
       "      <td>-0.203380</td>\n",
       "      <td>-0.897955</td>\n",
       "      <td>1.112372</td>\n",
       "    </tr>\n",
       "    <tr>\n",
       "      <th>1</th>\n",
       "      <td>-0.121894</td>\n",
       "      <td>0.506994</td>\n",
       "      <td>-0.543127</td>\n",
       "      <td>1.269502</td>\n",
       "      <td>0.385100</td>\n",
       "    </tr>\n",
       "    <tr>\n",
       "      <th>2</th>\n",
       "      <td>-0.290642</td>\n",
       "      <td>0.010169</td>\n",
       "      <td>1.054724</td>\n",
       "      <td>-1.335085</td>\n",
       "      <td>-0.280473</td>\n",
       "    </tr>\n",
       "    <tr>\n",
       "      <th>3</th>\n",
       "      <td>0.818006</td>\n",
       "      <td>0.203335</td>\n",
       "      <td>-0.635569</td>\n",
       "      <td>-0.795598</td>\n",
       "      <td>1.021341</td>\n",
       "    </tr>\n",
       "    <tr>\n",
       "      <th>4</th>\n",
       "      <td>-0.416378</td>\n",
       "      <td>-0.620346</td>\n",
       "      <td>0.551306</td>\n",
       "      <td>1.006346</td>\n",
       "      <td>-1.036724</td>\n",
       "    </tr>\n",
       "  </tbody>\n",
       "</table>\n",
       "</div>"
      ],
      "text/plain": [
       "          a         b         c         d     sachi\n",
       "0  0.015589  1.096783 -0.203380 -0.897955  1.112372\n",
       "1 -0.121894  0.506994 -0.543127  1.269502  0.385100\n",
       "2 -0.290642  0.010169  1.054724 -1.335085 -0.280473\n",
       "3  0.818006  0.203335 -0.635569 -0.795598  1.021341\n",
       "4 -0.416378 -0.620346  0.551306  1.006346 -1.036724"
      ]
     },
     "execution_count": 20,
     "metadata": {},
     "output_type": "execute_result"
    }
   ],
   "source": [
    "df"
   ]
  },
  {
   "cell_type": "code",
   "execution_count": 23,
   "id": "63c853eb",
   "metadata": {},
   "outputs": [],
   "source": [
    "df['new'] = [1,2,3,4,5]\n"
   ]
  },
  {
   "cell_type": "code",
   "execution_count": 24,
   "id": "4fb3353f",
   "metadata": {},
   "outputs": [
    {
     "data": {
      "text/html": [
       "<div>\n",
       "<style scoped>\n",
       "    .dataframe tbody tr th:only-of-type {\n",
       "        vertical-align: middle;\n",
       "    }\n",
       "\n",
       "    .dataframe tbody tr th {\n",
       "        vertical-align: top;\n",
       "    }\n",
       "\n",
       "    .dataframe thead th {\n",
       "        text-align: right;\n",
       "    }\n",
       "</style>\n",
       "<table border=\"1\" class=\"dataframe\">\n",
       "  <thead>\n",
       "    <tr style=\"text-align: right;\">\n",
       "      <th></th>\n",
       "      <th>a</th>\n",
       "      <th>b</th>\n",
       "      <th>c</th>\n",
       "      <th>d</th>\n",
       "      <th>sachi</th>\n",
       "      <th>new</th>\n",
       "    </tr>\n",
       "  </thead>\n",
       "  <tbody>\n",
       "    <tr>\n",
       "      <th>0</th>\n",
       "      <td>0.015589</td>\n",
       "      <td>1.096783</td>\n",
       "      <td>-0.203380</td>\n",
       "      <td>-0.897955</td>\n",
       "      <td>1.112372</td>\n",
       "      <td>1</td>\n",
       "    </tr>\n",
       "    <tr>\n",
       "      <th>1</th>\n",
       "      <td>-0.121894</td>\n",
       "      <td>0.506994</td>\n",
       "      <td>-0.543127</td>\n",
       "      <td>1.269502</td>\n",
       "      <td>0.385100</td>\n",
       "      <td>2</td>\n",
       "    </tr>\n",
       "    <tr>\n",
       "      <th>2</th>\n",
       "      <td>-0.290642</td>\n",
       "      <td>0.010169</td>\n",
       "      <td>1.054724</td>\n",
       "      <td>-1.335085</td>\n",
       "      <td>-0.280473</td>\n",
       "      <td>3</td>\n",
       "    </tr>\n",
       "    <tr>\n",
       "      <th>3</th>\n",
       "      <td>0.818006</td>\n",
       "      <td>0.203335</td>\n",
       "      <td>-0.635569</td>\n",
       "      <td>-0.795598</td>\n",
       "      <td>1.021341</td>\n",
       "      <td>4</td>\n",
       "    </tr>\n",
       "    <tr>\n",
       "      <th>4</th>\n",
       "      <td>-0.416378</td>\n",
       "      <td>-0.620346</td>\n",
       "      <td>0.551306</td>\n",
       "      <td>1.006346</td>\n",
       "      <td>-1.036724</td>\n",
       "      <td>5</td>\n",
       "    </tr>\n",
       "  </tbody>\n",
       "</table>\n",
       "</div>"
      ],
      "text/plain": [
       "          a         b         c         d     sachi  new\n",
       "0  0.015589  1.096783 -0.203380 -0.897955  1.112372    1\n",
       "1 -0.121894  0.506994 -0.543127  1.269502  0.385100    2\n",
       "2 -0.290642  0.010169  1.054724 -1.335085 -0.280473    3\n",
       "3  0.818006  0.203335 -0.635569 -0.795598  1.021341    4\n",
       "4 -0.416378 -0.620346  0.551306  1.006346 -1.036724    5"
      ]
     },
     "execution_count": 24,
     "metadata": {},
     "output_type": "execute_result"
    }
   ],
   "source": [
    "df"
   ]
  },
  {
   "cell_type": "code",
   "execution_count": 25,
   "id": "72a5116e",
   "metadata": {},
   "outputs": [
    {
     "data": {
      "text/html": [
       "<div>\n",
       "<style scoped>\n",
       "    .dataframe tbody tr th:only-of-type {\n",
       "        vertical-align: middle;\n",
       "    }\n",
       "\n",
       "    .dataframe tbody tr th {\n",
       "        vertical-align: top;\n",
       "    }\n",
       "\n",
       "    .dataframe thead th {\n",
       "        text-align: right;\n",
       "    }\n",
       "</style>\n",
       "<table border=\"1\" class=\"dataframe\">\n",
       "  <thead>\n",
       "    <tr style=\"text-align: right;\">\n",
       "      <th></th>\n",
       "      <th>a</th>\n",
       "      <th>b</th>\n",
       "      <th>c</th>\n",
       "      <th>d</th>\n",
       "      <th>sachi</th>\n",
       "    </tr>\n",
       "  </thead>\n",
       "  <tbody>\n",
       "    <tr>\n",
       "      <th>0</th>\n",
       "      <td>0.015589</td>\n",
       "      <td>1.096783</td>\n",
       "      <td>-0.203380</td>\n",
       "      <td>-0.897955</td>\n",
       "      <td>1.112372</td>\n",
       "    </tr>\n",
       "    <tr>\n",
       "      <th>1</th>\n",
       "      <td>-0.121894</td>\n",
       "      <td>0.506994</td>\n",
       "      <td>-0.543127</td>\n",
       "      <td>1.269502</td>\n",
       "      <td>0.385100</td>\n",
       "    </tr>\n",
       "    <tr>\n",
       "      <th>2</th>\n",
       "      <td>-0.290642</td>\n",
       "      <td>0.010169</td>\n",
       "      <td>1.054724</td>\n",
       "      <td>-1.335085</td>\n",
       "      <td>-0.280473</td>\n",
       "    </tr>\n",
       "    <tr>\n",
       "      <th>3</th>\n",
       "      <td>0.818006</td>\n",
       "      <td>0.203335</td>\n",
       "      <td>-0.635569</td>\n",
       "      <td>-0.795598</td>\n",
       "      <td>1.021341</td>\n",
       "    </tr>\n",
       "    <tr>\n",
       "      <th>4</th>\n",
       "      <td>-0.416378</td>\n",
       "      <td>-0.620346</td>\n",
       "      <td>0.551306</td>\n",
       "      <td>1.006346</td>\n",
       "      <td>-1.036724</td>\n",
       "    </tr>\n",
       "  </tbody>\n",
       "</table>\n",
       "</div>"
      ],
      "text/plain": [
       "          a         b         c         d     sachi\n",
       "0  0.015589  1.096783 -0.203380 -0.897955  1.112372\n",
       "1 -0.121894  0.506994 -0.543127  1.269502  0.385100\n",
       "2 -0.290642  0.010169  1.054724 -1.335085 -0.280473\n",
       "3  0.818006  0.203335 -0.635569 -0.795598  1.021341\n",
       "4 -0.416378 -0.620346  0.551306  1.006346 -1.036724"
      ]
     },
     "execution_count": 25,
     "metadata": {},
     "output_type": "execute_result"
    }
   ],
   "source": [
    "df.drop('new',axis=1)"
   ]
  },
  {
   "cell_type": "code",
   "execution_count": 26,
   "id": "709739bf",
   "metadata": {},
   "outputs": [
    {
     "data": {
      "text/html": [
       "<div>\n",
       "<style scoped>\n",
       "    .dataframe tbody tr th:only-of-type {\n",
       "        vertical-align: middle;\n",
       "    }\n",
       "\n",
       "    .dataframe tbody tr th {\n",
       "        vertical-align: top;\n",
       "    }\n",
       "\n",
       "    .dataframe thead th {\n",
       "        text-align: right;\n",
       "    }\n",
       "</style>\n",
       "<table border=\"1\" class=\"dataframe\">\n",
       "  <thead>\n",
       "    <tr style=\"text-align: right;\">\n",
       "      <th></th>\n",
       "      <th>a</th>\n",
       "      <th>b</th>\n",
       "      <th>c</th>\n",
       "      <th>d</th>\n",
       "      <th>sachi</th>\n",
       "      <th>new</th>\n",
       "    </tr>\n",
       "  </thead>\n",
       "  <tbody>\n",
       "    <tr>\n",
       "      <th>0</th>\n",
       "      <td>0.015589</td>\n",
       "      <td>1.096783</td>\n",
       "      <td>-0.203380</td>\n",
       "      <td>-0.897955</td>\n",
       "      <td>1.112372</td>\n",
       "      <td>1</td>\n",
       "    </tr>\n",
       "    <tr>\n",
       "      <th>1</th>\n",
       "      <td>-0.121894</td>\n",
       "      <td>0.506994</td>\n",
       "      <td>-0.543127</td>\n",
       "      <td>1.269502</td>\n",
       "      <td>0.385100</td>\n",
       "      <td>2</td>\n",
       "    </tr>\n",
       "    <tr>\n",
       "      <th>2</th>\n",
       "      <td>-0.290642</td>\n",
       "      <td>0.010169</td>\n",
       "      <td>1.054724</td>\n",
       "      <td>-1.335085</td>\n",
       "      <td>-0.280473</td>\n",
       "      <td>3</td>\n",
       "    </tr>\n",
       "    <tr>\n",
       "      <th>3</th>\n",
       "      <td>0.818006</td>\n",
       "      <td>0.203335</td>\n",
       "      <td>-0.635569</td>\n",
       "      <td>-0.795598</td>\n",
       "      <td>1.021341</td>\n",
       "      <td>4</td>\n",
       "    </tr>\n",
       "    <tr>\n",
       "      <th>4</th>\n",
       "      <td>-0.416378</td>\n",
       "      <td>-0.620346</td>\n",
       "      <td>0.551306</td>\n",
       "      <td>1.006346</td>\n",
       "      <td>-1.036724</td>\n",
       "      <td>5</td>\n",
       "    </tr>\n",
       "  </tbody>\n",
       "</table>\n",
       "</div>"
      ],
      "text/plain": [
       "          a         b         c         d     sachi  new\n",
       "0  0.015589  1.096783 -0.203380 -0.897955  1.112372    1\n",
       "1 -0.121894  0.506994 -0.543127  1.269502  0.385100    2\n",
       "2 -0.290642  0.010169  1.054724 -1.335085 -0.280473    3\n",
       "3  0.818006  0.203335 -0.635569 -0.795598  1.021341    4\n",
       "4 -0.416378 -0.620346  0.551306  1.006346 -1.036724    5"
      ]
     },
     "execution_count": 26,
     "metadata": {},
     "output_type": "execute_result"
    }
   ],
   "source": [
    "df"
   ]
  },
  {
   "cell_type": "code",
   "execution_count": 28,
   "id": "76eb89b5",
   "metadata": {},
   "outputs": [],
   "source": [
    "df.drop('new',axis=1,inplace=True)"
   ]
  },
  {
   "cell_type": "code",
   "execution_count": 29,
   "id": "e95e067f",
   "metadata": {},
   "outputs": [
    {
     "data": {
      "text/html": [
       "<div>\n",
       "<style scoped>\n",
       "    .dataframe tbody tr th:only-of-type {\n",
       "        vertical-align: middle;\n",
       "    }\n",
       "\n",
       "    .dataframe tbody tr th {\n",
       "        vertical-align: top;\n",
       "    }\n",
       "\n",
       "    .dataframe thead th {\n",
       "        text-align: right;\n",
       "    }\n",
       "</style>\n",
       "<table border=\"1\" class=\"dataframe\">\n",
       "  <thead>\n",
       "    <tr style=\"text-align: right;\">\n",
       "      <th></th>\n",
       "      <th>a</th>\n",
       "      <th>b</th>\n",
       "      <th>c</th>\n",
       "      <th>d</th>\n",
       "      <th>sachi</th>\n",
       "    </tr>\n",
       "  </thead>\n",
       "  <tbody>\n",
       "    <tr>\n",
       "      <th>0</th>\n",
       "      <td>0.015589</td>\n",
       "      <td>1.096783</td>\n",
       "      <td>-0.203380</td>\n",
       "      <td>-0.897955</td>\n",
       "      <td>1.112372</td>\n",
       "    </tr>\n",
       "    <tr>\n",
       "      <th>1</th>\n",
       "      <td>-0.121894</td>\n",
       "      <td>0.506994</td>\n",
       "      <td>-0.543127</td>\n",
       "      <td>1.269502</td>\n",
       "      <td>0.385100</td>\n",
       "    </tr>\n",
       "    <tr>\n",
       "      <th>2</th>\n",
       "      <td>-0.290642</td>\n",
       "      <td>0.010169</td>\n",
       "      <td>1.054724</td>\n",
       "      <td>-1.335085</td>\n",
       "      <td>-0.280473</td>\n",
       "    </tr>\n",
       "    <tr>\n",
       "      <th>3</th>\n",
       "      <td>0.818006</td>\n",
       "      <td>0.203335</td>\n",
       "      <td>-0.635569</td>\n",
       "      <td>-0.795598</td>\n",
       "      <td>1.021341</td>\n",
       "    </tr>\n",
       "    <tr>\n",
       "      <th>4</th>\n",
       "      <td>-0.416378</td>\n",
       "      <td>-0.620346</td>\n",
       "      <td>0.551306</td>\n",
       "      <td>1.006346</td>\n",
       "      <td>-1.036724</td>\n",
       "    </tr>\n",
       "  </tbody>\n",
       "</table>\n",
       "</div>"
      ],
      "text/plain": [
       "          a         b         c         d     sachi\n",
       "0  0.015589  1.096783 -0.203380 -0.897955  1.112372\n",
       "1 -0.121894  0.506994 -0.543127  1.269502  0.385100\n",
       "2 -0.290642  0.010169  1.054724 -1.335085 -0.280473\n",
       "3  0.818006  0.203335 -0.635569 -0.795598  1.021341\n",
       "4 -0.416378 -0.620346  0.551306  1.006346 -1.036724"
      ]
     },
     "execution_count": 29,
     "metadata": {},
     "output_type": "execute_result"
    }
   ],
   "source": [
    "df"
   ]
  },
  {
   "cell_type": "code",
   "execution_count": 30,
   "id": "36e70291",
   "metadata": {},
   "outputs": [
    {
     "data": {
      "text/html": [
       "<div>\n",
       "<style scoped>\n",
       "    .dataframe tbody tr th:only-of-type {\n",
       "        vertical-align: middle;\n",
       "    }\n",
       "\n",
       "    .dataframe tbody tr th {\n",
       "        vertical-align: top;\n",
       "    }\n",
       "\n",
       "    .dataframe thead th {\n",
       "        text-align: right;\n",
       "    }\n",
       "</style>\n",
       "<table border=\"1\" class=\"dataframe\">\n",
       "  <thead>\n",
       "    <tr style=\"text-align: right;\">\n",
       "      <th></th>\n",
       "      <th>a</th>\n",
       "      <th>b</th>\n",
       "      <th>c</th>\n",
       "      <th>d</th>\n",
       "      <th>sachi</th>\n",
       "    </tr>\n",
       "  </thead>\n",
       "  <tbody>\n",
       "    <tr>\n",
       "      <th>0</th>\n",
       "      <td>0.015589</td>\n",
       "      <td>1.096783</td>\n",
       "      <td>-0.203380</td>\n",
       "      <td>-0.897955</td>\n",
       "      <td>1.112372</td>\n",
       "    </tr>\n",
       "    <tr>\n",
       "      <th>1</th>\n",
       "      <td>-0.121894</td>\n",
       "      <td>0.506994</td>\n",
       "      <td>-0.543127</td>\n",
       "      <td>1.269502</td>\n",
       "      <td>0.385100</td>\n",
       "    </tr>\n",
       "    <tr>\n",
       "      <th>2</th>\n",
       "      <td>-0.290642</td>\n",
       "      <td>0.010169</td>\n",
       "      <td>1.054724</td>\n",
       "      <td>-1.335085</td>\n",
       "      <td>-0.280473</td>\n",
       "    </tr>\n",
       "    <tr>\n",
       "      <th>4</th>\n",
       "      <td>-0.416378</td>\n",
       "      <td>-0.620346</td>\n",
       "      <td>0.551306</td>\n",
       "      <td>1.006346</td>\n",
       "      <td>-1.036724</td>\n",
       "    </tr>\n",
       "  </tbody>\n",
       "</table>\n",
       "</div>"
      ],
      "text/plain": [
       "          a         b         c         d     sachi\n",
       "0  0.015589  1.096783 -0.203380 -0.897955  1.112372\n",
       "1 -0.121894  0.506994 -0.543127  1.269502  0.385100\n",
       "2 -0.290642  0.010169  1.054724 -1.335085 -0.280473\n",
       "4 -0.416378 -0.620346  0.551306  1.006346 -1.036724"
      ]
     },
     "execution_count": 30,
     "metadata": {},
     "output_type": "execute_result"
    }
   ],
   "source": [
    "df.drop(3,axis=0)"
   ]
  },
  {
   "cell_type": "code",
   "execution_count": 31,
   "id": "58450443",
   "metadata": {},
   "outputs": [
    {
     "data": {
      "text/html": [
       "<div>\n",
       "<style scoped>\n",
       "    .dataframe tbody tr th:only-of-type {\n",
       "        vertical-align: middle;\n",
       "    }\n",
       "\n",
       "    .dataframe tbody tr th {\n",
       "        vertical-align: top;\n",
       "    }\n",
       "\n",
       "    .dataframe thead th {\n",
       "        text-align: right;\n",
       "    }\n",
       "</style>\n",
       "<table border=\"1\" class=\"dataframe\">\n",
       "  <thead>\n",
       "    <tr style=\"text-align: right;\">\n",
       "      <th></th>\n",
       "      <th>a</th>\n",
       "      <th>b</th>\n",
       "      <th>c</th>\n",
       "      <th>d</th>\n",
       "      <th>sachi</th>\n",
       "    </tr>\n",
       "  </thead>\n",
       "  <tbody>\n",
       "    <tr>\n",
       "      <th>0</th>\n",
       "      <td>0.015589</td>\n",
       "      <td>1.096783</td>\n",
       "      <td>-0.203380</td>\n",
       "      <td>-0.897955</td>\n",
       "      <td>1.112372</td>\n",
       "    </tr>\n",
       "    <tr>\n",
       "      <th>1</th>\n",
       "      <td>-0.121894</td>\n",
       "      <td>0.506994</td>\n",
       "      <td>-0.543127</td>\n",
       "      <td>1.269502</td>\n",
       "      <td>0.385100</td>\n",
       "    </tr>\n",
       "    <tr>\n",
       "      <th>2</th>\n",
       "      <td>-0.290642</td>\n",
       "      <td>0.010169</td>\n",
       "      <td>1.054724</td>\n",
       "      <td>-1.335085</td>\n",
       "      <td>-0.280473</td>\n",
       "    </tr>\n",
       "    <tr>\n",
       "      <th>3</th>\n",
       "      <td>0.818006</td>\n",
       "      <td>0.203335</td>\n",
       "      <td>-0.635569</td>\n",
       "      <td>-0.795598</td>\n",
       "      <td>1.021341</td>\n",
       "    </tr>\n",
       "    <tr>\n",
       "      <th>4</th>\n",
       "      <td>-0.416378</td>\n",
       "      <td>-0.620346</td>\n",
       "      <td>0.551306</td>\n",
       "      <td>1.006346</td>\n",
       "      <td>-1.036724</td>\n",
       "    </tr>\n",
       "  </tbody>\n",
       "</table>\n",
       "</div>"
      ],
      "text/plain": [
       "          a         b         c         d     sachi\n",
       "0  0.015589  1.096783 -0.203380 -0.897955  1.112372\n",
       "1 -0.121894  0.506994 -0.543127  1.269502  0.385100\n",
       "2 -0.290642  0.010169  1.054724 -1.335085 -0.280473\n",
       "3  0.818006  0.203335 -0.635569 -0.795598  1.021341\n",
       "4 -0.416378 -0.620346  0.551306  1.006346 -1.036724"
      ]
     },
     "execution_count": 31,
     "metadata": {},
     "output_type": "execute_result"
    }
   ],
   "source": [
    "df"
   ]
  },
  {
   "cell_type": "code",
   "execution_count": 32,
   "id": "f43c86bd",
   "metadata": {},
   "outputs": [],
   "source": [
    "df.drop(3,axis=0,inplace=True)"
   ]
  },
  {
   "cell_type": "code",
   "execution_count": 33,
   "id": "c34903ef",
   "metadata": {},
   "outputs": [
    {
     "data": {
      "text/html": [
       "<div>\n",
       "<style scoped>\n",
       "    .dataframe tbody tr th:only-of-type {\n",
       "        vertical-align: middle;\n",
       "    }\n",
       "\n",
       "    .dataframe tbody tr th {\n",
       "        vertical-align: top;\n",
       "    }\n",
       "\n",
       "    .dataframe thead th {\n",
       "        text-align: right;\n",
       "    }\n",
       "</style>\n",
       "<table border=\"1\" class=\"dataframe\">\n",
       "  <thead>\n",
       "    <tr style=\"text-align: right;\">\n",
       "      <th></th>\n",
       "      <th>a</th>\n",
       "      <th>b</th>\n",
       "      <th>c</th>\n",
       "      <th>d</th>\n",
       "      <th>sachi</th>\n",
       "    </tr>\n",
       "  </thead>\n",
       "  <tbody>\n",
       "    <tr>\n",
       "      <th>0</th>\n",
       "      <td>0.015589</td>\n",
       "      <td>1.096783</td>\n",
       "      <td>-0.203380</td>\n",
       "      <td>-0.897955</td>\n",
       "      <td>1.112372</td>\n",
       "    </tr>\n",
       "    <tr>\n",
       "      <th>1</th>\n",
       "      <td>-0.121894</td>\n",
       "      <td>0.506994</td>\n",
       "      <td>-0.543127</td>\n",
       "      <td>1.269502</td>\n",
       "      <td>0.385100</td>\n",
       "    </tr>\n",
       "    <tr>\n",
       "      <th>2</th>\n",
       "      <td>-0.290642</td>\n",
       "      <td>0.010169</td>\n",
       "      <td>1.054724</td>\n",
       "      <td>-1.335085</td>\n",
       "      <td>-0.280473</td>\n",
       "    </tr>\n",
       "    <tr>\n",
       "      <th>4</th>\n",
       "      <td>-0.416378</td>\n",
       "      <td>-0.620346</td>\n",
       "      <td>0.551306</td>\n",
       "      <td>1.006346</td>\n",
       "      <td>-1.036724</td>\n",
       "    </tr>\n",
       "  </tbody>\n",
       "</table>\n",
       "</div>"
      ],
      "text/plain": [
       "          a         b         c         d     sachi\n",
       "0  0.015589  1.096783 -0.203380 -0.897955  1.112372\n",
       "1 -0.121894  0.506994 -0.543127  1.269502  0.385100\n",
       "2 -0.290642  0.010169  1.054724 -1.335085 -0.280473\n",
       "4 -0.416378 -0.620346  0.551306  1.006346 -1.036724"
      ]
     },
     "execution_count": 33,
     "metadata": {},
     "output_type": "execute_result"
    }
   ],
   "source": [
    "df"
   ]
  },
  {
   "cell_type": "code",
   "execution_count": 34,
   "id": "1414c897",
   "metadata": {},
   "outputs": [
    {
     "data": {
      "text/plain": [
       "(4, 5)"
      ]
     },
     "execution_count": 34,
     "metadata": {},
     "output_type": "execute_result"
    }
   ],
   "source": [
    "df.shape"
   ]
  },
  {
   "cell_type": "code",
   "execution_count": 35,
   "id": "e6cb31f7",
   "metadata": {},
   "outputs": [
    {
     "data": {
      "text/plain": [
       "a       -0.290642\n",
       "b        0.010169\n",
       "c        1.054724\n",
       "d       -1.335085\n",
       "sachi   -0.280473\n",
       "Name: 2, dtype: float64"
      ]
     },
     "execution_count": 35,
     "metadata": {},
     "output_type": "execute_result"
    }
   ],
   "source": [
    "df.iloc[2]"
   ]
  },
  {
   "cell_type": "code",
   "execution_count": 36,
   "id": "438b540a",
   "metadata": {},
   "outputs": [
    {
     "data": {
      "text/plain": [
       "a       -0.416378\n",
       "b       -0.620346\n",
       "c        0.551306\n",
       "d        1.006346\n",
       "sachi   -1.036724\n",
       "Name: 4, dtype: float64"
      ]
     },
     "execution_count": 36,
     "metadata": {},
     "output_type": "execute_result"
    }
   ],
   "source": [
    "df.iloc[3]"
   ]
  },
  {
   "cell_type": "code",
   "execution_count": 37,
   "id": "956ac825",
   "metadata": {},
   "outputs": [],
   "source": [
    "df = pd.DataFrame(np.random.randn(5,4),columns=['a','b','c','d'])"
   ]
  },
  {
   "cell_type": "code",
   "execution_count": 38,
   "id": "21de9737",
   "metadata": {},
   "outputs": [
    {
     "data": {
      "text/html": [
       "<div>\n",
       "<style scoped>\n",
       "    .dataframe tbody tr th:only-of-type {\n",
       "        vertical-align: middle;\n",
       "    }\n",
       "\n",
       "    .dataframe tbody tr th {\n",
       "        vertical-align: top;\n",
       "    }\n",
       "\n",
       "    .dataframe thead th {\n",
       "        text-align: right;\n",
       "    }\n",
       "</style>\n",
       "<table border=\"1\" class=\"dataframe\">\n",
       "  <thead>\n",
       "    <tr style=\"text-align: right;\">\n",
       "      <th></th>\n",
       "      <th>a</th>\n",
       "      <th>b</th>\n",
       "      <th>c</th>\n",
       "      <th>d</th>\n",
       "    </tr>\n",
       "  </thead>\n",
       "  <tbody>\n",
       "    <tr>\n",
       "      <th>0</th>\n",
       "      <td>0.437148</td>\n",
       "      <td>-0.632635</td>\n",
       "      <td>-0.153098</td>\n",
       "      <td>-0.715838</td>\n",
       "    </tr>\n",
       "    <tr>\n",
       "      <th>1</th>\n",
       "      <td>-0.279816</td>\n",
       "      <td>0.104875</td>\n",
       "      <td>0.210802</td>\n",
       "      <td>0.171659</td>\n",
       "    </tr>\n",
       "    <tr>\n",
       "      <th>2</th>\n",
       "      <td>-0.558751</td>\n",
       "      <td>-0.103156</td>\n",
       "      <td>-0.279692</td>\n",
       "      <td>-1.774065</td>\n",
       "    </tr>\n",
       "    <tr>\n",
       "      <th>3</th>\n",
       "      <td>-1.135756</td>\n",
       "      <td>-1.328647</td>\n",
       "      <td>2.505455</td>\n",
       "      <td>-2.062873</td>\n",
       "    </tr>\n",
       "    <tr>\n",
       "      <th>4</th>\n",
       "      <td>1.361582</td>\n",
       "      <td>1.385485</td>\n",
       "      <td>-0.925620</td>\n",
       "      <td>2.045927</td>\n",
       "    </tr>\n",
       "  </tbody>\n",
       "</table>\n",
       "</div>"
      ],
      "text/plain": [
       "          a         b         c         d\n",
       "0  0.437148 -0.632635 -0.153098 -0.715838\n",
       "1 -0.279816  0.104875  0.210802  0.171659\n",
       "2 -0.558751 -0.103156 -0.279692 -1.774065\n",
       "3 -1.135756 -1.328647  2.505455 -2.062873\n",
       "4  1.361582  1.385485 -0.925620  2.045927"
      ]
     },
     "execution_count": 38,
     "metadata": {},
     "output_type": "execute_result"
    }
   ],
   "source": [
    "df"
   ]
  },
  {
   "cell_type": "code",
   "execution_count": 39,
   "id": "f460206b",
   "metadata": {},
   "outputs": [
    {
     "data": {
      "text/html": [
       "<div>\n",
       "<style scoped>\n",
       "    .dataframe tbody tr th:only-of-type {\n",
       "        vertical-align: middle;\n",
       "    }\n",
       "\n",
       "    .dataframe tbody tr th {\n",
       "        vertical-align: top;\n",
       "    }\n",
       "\n",
       "    .dataframe thead th {\n",
       "        text-align: right;\n",
       "    }\n",
       "</style>\n",
       "<table border=\"1\" class=\"dataframe\">\n",
       "  <thead>\n",
       "    <tr style=\"text-align: right;\">\n",
       "      <th></th>\n",
       "      <th>c</th>\n",
       "      <th>d</th>\n",
       "    </tr>\n",
       "  </thead>\n",
       "  <tbody>\n",
       "    <tr>\n",
       "      <th>0</th>\n",
       "      <td>-0.153098</td>\n",
       "      <td>-0.715838</td>\n",
       "    </tr>\n",
       "    <tr>\n",
       "      <th>1</th>\n",
       "      <td>0.210802</td>\n",
       "      <td>0.171659</td>\n",
       "    </tr>\n",
       "    <tr>\n",
       "      <th>2</th>\n",
       "      <td>-0.279692</td>\n",
       "      <td>-1.774065</td>\n",
       "    </tr>\n",
       "    <tr>\n",
       "      <th>3</th>\n",
       "      <td>2.505455</td>\n",
       "      <td>-2.062873</td>\n",
       "    </tr>\n",
       "    <tr>\n",
       "      <th>4</th>\n",
       "      <td>-0.925620</td>\n",
       "      <td>2.045927</td>\n",
       "    </tr>\n",
       "  </tbody>\n",
       "</table>\n",
       "</div>"
      ],
      "text/plain": [
       "          c         d\n",
       "0 -0.153098 -0.715838\n",
       "1  0.210802  0.171659\n",
       "2 -0.279692 -1.774065\n",
       "3  2.505455 -2.062873\n",
       "4 -0.925620  2.045927"
      ]
     },
     "execution_count": 39,
     "metadata": {},
     "output_type": "execute_result"
    }
   ],
   "source": [
    "df.iloc[0:,2:]"
   ]
  },
  {
   "cell_type": "code",
   "execution_count": 40,
   "id": "15a45979",
   "metadata": {},
   "outputs": [],
   "source": [
    "import matplotlib.pyplot as plt\n",
    "\n",
    "a = np.linspace(0,5,11)"
   ]
  },
  {
   "cell_type": "code",
   "execution_count": 41,
   "id": "e54c0dc8",
   "metadata": {},
   "outputs": [
    {
     "data": {
      "text/plain": [
       "array([0. , 0.5, 1. , 1.5, 2. , 2.5, 3. , 3.5, 4. , 4.5, 5. ])"
      ]
     },
     "execution_count": 41,
     "metadata": {},
     "output_type": "execute_result"
    }
   ],
   "source": [
    "a"
   ]
  },
  {
   "cell_type": "code",
   "execution_count": 42,
   "id": "0049bf38",
   "metadata": {},
   "outputs": [],
   "source": [
    "b = a*2"
   ]
  },
  {
   "cell_type": "code",
   "execution_count": 43,
   "id": "12a73616",
   "metadata": {},
   "outputs": [
    {
     "data": {
      "text/plain": [
       "array([ 0.,  1.,  2.,  3.,  4.,  5.,  6.,  7.,  8.,  9., 10.])"
      ]
     },
     "execution_count": 43,
     "metadata": {},
     "output_type": "execute_result"
    }
   ],
   "source": [
    "b"
   ]
  },
  {
   "cell_type": "code",
   "execution_count": 44,
   "id": "068d6e93",
   "metadata": {},
   "outputs": [],
   "source": [
    "c = np.array([2,3,4,5,6,8])"
   ]
  },
  {
   "cell_type": "code",
   "execution_count": 45,
   "id": "aadd98e7",
   "metadata": {},
   "outputs": [
    {
     "data": {
      "text/plain": [
       "array([2, 3, 4, 5, 6, 8])"
      ]
     },
     "execution_count": 45,
     "metadata": {},
     "output_type": "execute_result"
    }
   ],
   "source": [
    "c"
   ]
  },
  {
   "cell_type": "code",
   "execution_count": null,
   "id": "88f48d6b",
   "metadata": {},
   "outputs": [],
   "source": [
    "plt.plot(a,b)\n",
    "plt.title('sparrowAI',fontsize-)"
   ]
  }
 ],
 "metadata": {
  "kernelspec": {
   "display_name": "Python 3 (ipykernel)",
   "language": "python",
   "name": "python3"
  },
  "language_info": {
   "codemirror_mode": {
    "name": "ipython",
    "version": 3
   },
   "file_extension": ".py",
   "mimetype": "text/x-python",
   "name": "python",
   "nbconvert_exporter": "python",
   "pygments_lexer": "ipython3",
   "version": "3.10.9"
  }
 },
 "nbformat": 4,
 "nbformat_minor": 5
}
