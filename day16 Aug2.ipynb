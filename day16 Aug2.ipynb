{
 "cells": [
  {
   "cell_type": "markdown",
   "id": "81f67724",
   "metadata": {},
   "source": [
    "# Encapsulation"
   ]
  },
  {
   "cell_type": "markdown",
   "id": "090f30f4",
   "metadata": {},
   "source": [
    "### It is one of the fundamental concept in object oriented programming. It describes the idea of wrapping data and the methods that work on data within one unit. This puts restrictions on accessing variables and methods directly and can prevent the accidental modification of data."
   ]
  },
  {
   "cell_type": "code",
   "execution_count": 1,
   "id": "39be2ce9",
   "metadata": {},
   "outputs": [
    {
     "name": "stdout",
     "output_type": "stream",
     "text": [
      "100 20\n"
     ]
    }
   ],
   "source": [
    "class speed:\n",
    "    def __init__(self):\n",
    "        self.speed = 10           # public number\n",
    "        self.__speed_limit = 20   # private number\n",
    "        \n",
    "    def getSpeed(self):\n",
    "        return self.speed\n",
    "    \n",
    "    def get_speed_limit(self):\n",
    "        return self.__speed_limit\n",
    "    \n",
    "s = speed()             # instance\n",
    "s.speed = 100\n",
    "s.__speed_limit = 50\n",
    "\n",
    "print(s.getSpeed(),s.get_speed_limit())"
   ]
  },
  {
   "cell_type": "code",
   "execution_count": 2,
   "id": "4f6dd824",
   "metadata": {},
   "outputs": [
    {
     "name": "stdout",
     "output_type": "stream",
     "text": [
      "100 150\n"
     ]
    }
   ],
   "source": [
    "# changng speed limit and private number\n",
    "\n",
    "class speed:\n",
    "    def __init__(self):          \n",
    "        self.speed = 10     #public number\n",
    "        self.__speed_limit = 20       #private number\n",
    "        \n",
    "    def getSpeed(self):\n",
    "        return self.speed\n",
    "    \n",
    "    def get_speed_limit(self):\n",
    "        return self.__speed_limit\n",
    "    \n",
    "    def set_speed_limit(self,new_speed_limit):\n",
    "        self.__speed_limit = new_speed_limit\n",
    "        \n",
    "s = speed()\n",
    "\n",
    "s.speed = 100\n",
    "s.__speed_limit = 50\n",
    "s.set_speed_limit(150)\n",
    "\n",
    "print(s.getSpeed(),s.get_speed_limit())"
   ]
  },
  {
   "cell_type": "markdown",
   "id": "0421a249",
   "metadata": {},
   "source": [
    "# Operator overloading\n",
    "### Operator Overloading means giving extended meaning beyond their predefined operational meaning. For example operator + is used to add two integers as well as join two strings and merge two lists. It is achievable because '+' operator is overloaded by int class and str class.\n"
   ]
  },
  {
   "cell_type": "code",
   "execution_count": 3,
   "id": "90d4c8c5",
   "metadata": {},
   "outputs": [
    {
     "name": "stdout",
     "output_type": "stream",
     "text": [
      "4\n",
      "Datascience\n",
      "8\n",
      "AI is future\n"
     ]
    }
   ],
   "source": [
    "# Examples\n",
    "\n",
    "print(2 + 2)\n",
    "\n",
    "#concatenare\n",
    "print('Data' + 'science')\n",
    "\n",
    "#product\n",
    "print(2 * 4)\n",
    "\n",
    "#repeate\n",
    "print('AI is future')"
   ]
  },
  {
   "cell_type": "code",
   "execution_count": 4,
   "id": "d83aeff5",
   "metadata": {},
   "outputs": [
    {
     "name": "stdout",
     "output_type": "stream",
     "text": [
      "10\n",
      "Datascience\n"
     ]
    }
   ],
   "source": [
    "## to overload binary '+' operators\n",
    "\n",
    "class X:\n",
    "    \n",
    "     def __init__(self,a):\n",
    "        self.a = a\n",
    "        \n",
    "# add to objects\n",
    "     def __add__(self,b):\n",
    "        return self.a + b.a\n",
    "\n",
    "obj1 = X(6)\n",
    "obj2 = X(4)\n",
    "obj3 = ('Data')\n",
    "obj4 = ('science')\n",
    "\n",
    "print(obj1 + obj2)\n",
    "print(obj3 + obj4)"
   ]
  },
  {
   "cell_type": "code",
   "execution_count": 5,
   "id": "e0fde820",
   "metadata": {},
   "outputs": [
    {
     "name": "stdout",
     "output_type": "stream",
     "text": [
      "(7, 9)\n"
     ]
    }
   ],
   "source": [
    "#Addition of two complex numbers overloading\n",
    "\n",
    "class complex:\n",
    "    \n",
    "    def __init__(self,a,b):\n",
    "        self.a = a\n",
    "        self.b = b\n",
    "        \n",
    "# add two objects\n",
    "    def __add__(self,others):\n",
    "        return self.a + others.a, self.b + others.b\n",
    "    \n",
    "obj1 = complex(6,4)\n",
    "obj2 = complex(1,5)\n",
    "obj3 = obj1 + obj2\n",
    "\n",
    "print(obj3)"
   ]
  },
  {
   "cell_type": "markdown",
   "id": "46c39ef7",
   "metadata": {},
   "source": [
    "# Writing to a file"
   ]
  },
  {
   "cell_type": "code",
   "execution_count": 6,
   "id": "bf714f4b",
   "metadata": {},
   "outputs": [],
   "source": [
    "f = open ('sachi.txt','w')       # w for writing\n",
    "\n",
    "f.write('welcome to data analyst....\\n')\n",
    "f.write('Data science is trending these days....\\n')\n",
    "f.write('AI is future....')\n",
    "\n",
    "f.close()"
   ]
  },
  {
   "cell_type": "code",
   "execution_count": 7,
   "id": "f1b713bd",
   "metadata": {},
   "outputs": [],
   "source": [
    "f = open ('sach1.txt','w')\n",
    "\n",
    "f.write('welcome to data analyst..../nData science is trending these days..../nAI is future.....')\n",
    "\n",
    "f.close()"
   ]
  },
  {
   "cell_type": "markdown",
   "id": "b71312d5",
   "metadata": {},
   "source": [
    "# Reading a file"
   ]
  },
  {
   "cell_type": "code",
   "execution_count": 8,
   "id": "0d09af6f",
   "metadata": {},
   "outputs": [
    {
     "name": "stdout",
     "output_type": "stream",
     "text": [
      "welcome to data analyst....\n",
      "Data science is trending these days....\n",
      "AI is future...."
     ]
    }
   ],
   "source": [
    "f = open('sachi.txt','r')\n",
    "\n",
    "for l in f:\n",
    "    print(l,end='')\n"
   ]
  },
  {
   "cell_type": "code",
   "execution_count": 9,
   "id": "9e454ff8",
   "metadata": {},
   "outputs": [
    {
     "ename": "FileNotFoundError",
     "evalue": "[Errno 2] No such file or directory: 'sachi1.txt'",
     "output_type": "error",
     "traceback": [
      "\u001b[1;31m---------------------------------------------------------------------------\u001b[0m",
      "\u001b[1;31mFileNotFoundError\u001b[0m                         Traceback (most recent call last)",
      "Cell \u001b[1;32mIn[9], line 1\u001b[0m\n\u001b[1;32m----> 1\u001b[0m f \u001b[38;5;241m=\u001b[39m \u001b[38;5;28;43mopen\u001b[39;49m\u001b[43m \u001b[49m\u001b[43m(\u001b[49m\u001b[38;5;124;43m'\u001b[39;49m\u001b[38;5;124;43msachi1.txt\u001b[39;49m\u001b[38;5;124;43m'\u001b[39;49m\u001b[43m,\u001b[49m\u001b[38;5;124;43m'\u001b[39;49m\u001b[38;5;124;43mr\u001b[39;49m\u001b[38;5;124;43m'\u001b[39;49m\u001b[43m)\u001b[49m\n\u001b[0;32m      3\u001b[0m \u001b[38;5;28;01mfor\u001b[39;00m l \u001b[38;5;129;01min\u001b[39;00m f:\n\u001b[0;32m      4\u001b[0m     \u001b[38;5;28mprint\u001b[39m(l,end\u001b[38;5;241m=\u001b[39m\u001b[38;5;124m'\u001b[39m\u001b[38;5;124m'\u001b[39m)\n",
      "File \u001b[1;32mC:\\ProgramData\\anaconda3\\lib\\site-packages\\IPython\\core\\interactiveshell.py:282\u001b[0m, in \u001b[0;36m_modified_open\u001b[1;34m(file, *args, **kwargs)\u001b[0m\n\u001b[0;32m    275\u001b[0m \u001b[38;5;28;01mif\u001b[39;00m file \u001b[38;5;129;01min\u001b[39;00m {\u001b[38;5;241m0\u001b[39m, \u001b[38;5;241m1\u001b[39m, \u001b[38;5;241m2\u001b[39m}:\n\u001b[0;32m    276\u001b[0m     \u001b[38;5;28;01mraise\u001b[39;00m \u001b[38;5;167;01mValueError\u001b[39;00m(\n\u001b[0;32m    277\u001b[0m         \u001b[38;5;124mf\u001b[39m\u001b[38;5;124m\"\u001b[39m\u001b[38;5;124mIPython won\u001b[39m\u001b[38;5;124m'\u001b[39m\u001b[38;5;124mt let you open fd=\u001b[39m\u001b[38;5;132;01m{\u001b[39;00mfile\u001b[38;5;132;01m}\u001b[39;00m\u001b[38;5;124m by default \u001b[39m\u001b[38;5;124m\"\u001b[39m\n\u001b[0;32m    278\u001b[0m         \u001b[38;5;124m\"\u001b[39m\u001b[38;5;124mas it is likely to crash IPython. If you know what you are doing, \u001b[39m\u001b[38;5;124m\"\u001b[39m\n\u001b[0;32m    279\u001b[0m         \u001b[38;5;124m\"\u001b[39m\u001b[38;5;124myou can use builtins\u001b[39m\u001b[38;5;124m'\u001b[39m\u001b[38;5;124m open.\u001b[39m\u001b[38;5;124m\"\u001b[39m\n\u001b[0;32m    280\u001b[0m     )\n\u001b[1;32m--> 282\u001b[0m \u001b[38;5;28;01mreturn\u001b[39;00m io_open(file, \u001b[38;5;241m*\u001b[39margs, \u001b[38;5;241m*\u001b[39m\u001b[38;5;241m*\u001b[39mkwargs)\n",
      "\u001b[1;31mFileNotFoundError\u001b[0m: [Errno 2] No such file or directory: 'sachi1.txt'"
     ]
    }
   ],
   "source": [
    "f = open ('sachi1.txt','r')\n",
    "\n",
    "for l in f:\n",
    "    print(l,end='')"
   ]
  },
  {
   "cell_type": "code",
   "execution_count": 6,
   "id": "b8404daa",
   "metadata": {},
   "outputs": [
    {
     "name": "stdout",
     "output_type": "stream",
     "text": [
      "100 20\n"
     ]
    }
   ],
   "source": [
    "# Encapsularion\n",
    "\n",
    "class speed:\n",
    "    def __init__(self):\n",
    "        self.speed = 10\n",
    "        self.__speed_limit = 20\n",
    "        \n",
    "    def getSpeed(self):\n",
    "        return self.speed\n",
    "    \n",
    "    def get_speed_limit(self):\n",
    "        return self.__speed_limit\n",
    "    \n",
    "s = speed()\n",
    "s.speed = 100\n",
    "s.__speed_limit = 50\n",
    "\n",
    "print(s.getSpeed(),s.get_speed_limit())"
   ]
  },
  {
   "cell_type": "code",
   "execution_count": 7,
   "id": "fef17484",
   "metadata": {},
   "outputs": [
    {
     "name": "stdout",
     "output_type": "stream",
     "text": [
      "100 150\n"
     ]
    }
   ],
   "source": [
    "class speed:\n",
    "    def __init__(self):\n",
    "        self.speed = 10\n",
    "        self.__speed_limit = 20\n",
    "        \n",
    "    def getSpeed(self):\n",
    "        return self.speed\n",
    "    \n",
    "    def get_speed_limit(self):\n",
    "        return self.__speed_limit\n",
    "    \n",
    "    def set_speed_limit(self,new_speed_limit):\n",
    "        self.__speed_limit = new_speed_limit\n",
    "        \n",
    "        \n",
    "s = speed()\n",
    "s.speed = 100\n",
    "s.__speed_limit = 50\n",
    "s.set_speed_limit(150)\n",
    "\n",
    "print(s.getSpeed(),s.get_speed_limit())"
   ]
  },
  {
   "cell_type": "code",
   "execution_count": null,
   "id": "dd9d51ec",
   "metadata": {},
   "outputs": [],
   "source": []
  }
 ],
 "metadata": {
  "kernelspec": {
   "display_name": "Python 3 (ipykernel)",
   "language": "python",
   "name": "python3"
  },
  "language_info": {
   "codemirror_mode": {
    "name": "ipython",
    "version": 3
   },
   "file_extension": ".py",
   "mimetype": "text/x-python",
   "name": "python",
   "nbconvert_exporter": "python",
   "pygments_lexer": "ipython3",
   "version": "3.10.9"
  }
 },
 "nbformat": 4,
 "nbformat_minor": 5
}
